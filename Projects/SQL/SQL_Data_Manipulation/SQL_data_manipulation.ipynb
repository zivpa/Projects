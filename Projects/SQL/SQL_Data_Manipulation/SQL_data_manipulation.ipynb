{
  "nbformat": 4,
  "nbformat_minor": 0,
  "metadata": {
    "colab": {
      "name": "Ex2_part1_sql_template.ipynb",
      "provenance": [],
      "collapsed_sections": [],
      "toc_visible": true
    },
    "kernelspec": {
      "name": "python3",
      "display_name": "Python 3"
    }
  },
  "cells": [
    {
      "cell_type": "markdown",
      "metadata": {
        "id": "hdtpH7gmOrqY"
      },
      "source": [
        "# Big Data Mining 52002\n",
        "## Problem Set 2 - Part 1: SQL Data Manipulation (9 Questions, 6 points for each)\n",
        "## Instructions: Fill the jupyter notebook, save as `Ex2_part1_sql_<ID1>_<ID2>.ipynb` and submit the filled .ipynb in moodle by 18/5/2021\n",
        "\n",
        "In this problem set you will practice the following:\n",
        "\n",
        "* Managing SQL databases and executing SQL queries using the sqlite3 module\n",
        "* Table creation \n",
        "* Populating tables directly via VALUES or with the help of Pandas's df.to_sql method \n",
        "* Basic feature cleaning / engineering\n",
        "* Join tables\n",
        "\n",
        "NOTE: for this part of the problem-set we use the sqlite v3 SQL-dialect.\n",
        "Click [here](https://www.sqlitetutorial.net/) or [here](https://www.tutorialspoint.com/sqlite/index.htm) for a couple of short tutorials covering `sqlite`. \n",
        "\n",
        "The notebook contains already some needed sqlite and printing commands\n",
        "(in particular, for questions 3,5,6,7,8 we print the first 10 rows of the resulting table to verify that the output is correct). For each question fill-in your python code and/or SQL query only in the designated place. Do not alter any other parts of the notebook.\n"
      ]
    },
    {
      "cell_type": "markdown",
      "metadata": {
        "id": "nUFKwAvCy4Vs"
      },
      "source": [
        "Necessary Libraries:"
      ]
    },
    {
      "cell_type": "code",
      "metadata": {
        "colab": {
          "base_uri": "https://localhost:8080/"
        },
        "id": "x-XQqcE9yza4",
        "outputId": "1ccc8dfd-eabe-4bba-8747-0b6301dc54ac"
      },
      "source": [
        "import sqlite3\n",
        "import ast\n",
        "import pandas as pd\n",
        "from google.colab import drive\n",
        "drive.mount('/content/drive/')"
      ],
      "execution_count": 2,
      "outputs": [
        {
          "output_type": "stream",
          "text": [
            "Mounted at /content/drive/\n"
          ],
          "name": "stdout"
        }
      ]
    },
    {
      "cell_type": "markdown",
      "metadata": {
        "id": "hDrPPBOonqoS"
      },
      "source": [
        "We will use data taken from the hugely popular US-based T.V. show [The Bachelor](https://en.wikipedia.org/wiki/The_Bachelor_(American_TV_series)), an American dating and relationship reality television series and its spin-off, [The Bachelorette](https://en.wikipedia.org/wiki/The_Bachelorette). \n",
        "The shows have respected IMDB scores of 3.2/10 and 3.4/10. \n",
        "\n",
        "Please answer the following questions, paying close attention to the instructions. Make sure your answers are clear and easy to read. "
      ]
    },
    {
      "cell_type": "markdown",
      "metadata": {
        "id": "zidp7h9AOqsE"
      },
      "source": [
        "(1.) Use the sqlite.connect operation to create an `sqlite` connection (`conn`) with a database named `bachelor.db`   \n",
        "\n",
        "Details: use the `sqlite` module to create a connection (named `conn`) to a new database (named `bachelor`). "
      ]
    },
    {
      "cell_type": "markdown",
      "metadata": {
        "id": "sbwMkB9-PZXD"
      },
      "source": [
        "WRITE YOUR SOLUTION BELOW:"
      ]
    },
    {
      "cell_type": "code",
      "metadata": {
        "id": "DjiscM35AefB"
      },
      "source": [
        "conn = sqlite3.connect('bachelor.db')"
      ],
      "execution_count": 3,
      "outputs": []
    },
    {
      "cell_type": "markdown",
      "metadata": {
        "id": "k3M8S3lK0WmO"
      },
      "source": [
        "(2.) Create a table named `the_bachelor` with the following fields:  \n",
        "\n",
        "`indx,Season,ElimWeek,Age,Height,ShowName,Name, Occupation,Hometown`.    \n",
        " Make sure you assign the appropriate data type to each field with the first four fields representing integer numbers and the rest are textual fields. For more information on data types, see [here](https://www.sqlite.org/datatype3.html).  "
      ]
    },
    {
      "cell_type": "markdown",
      "metadata": {
        "id": "bbuVra-6PkH9"
      },
      "source": [
        "WRITE YOUR SOLUTION BELOW:"
      ]
    },
    {
      "cell_type": "code",
      "metadata": {
        "id": "ilJp2rDsGgGX",
        "colab": {
          "base_uri": "https://localhost:8080/"
        },
        "outputId": "eb0293b9-21cf-48c9-cb6f-fe378bc71162"
      },
      "source": [
        "table1_name = \"the_bachelor\"\n",
        "table1_query = \"\"\"\n",
        "CREATE TABLE the_bachelor(\n",
        "    indx  INTEGER,    \n",
        "    Season INTEGER,  \n",
        "    ElimWeek  INTEGER,  \n",
        "    Age  INTEGER,    \n",
        "    Height TEXT,\n",
        "    ShowName TEXT,\n",
        "    Name TEXT,\n",
        "    Occupation TEXT,\n",
        "    Hometown TEXT  \n",
        ");\n",
        "\"\"\"\n",
        "conn.execute(table1_query.format(table1_name))\n",
        "conn.commit()\n",
        "\n",
        "print(\"{} table created successfully\".format(table1_name));"
      ],
      "execution_count": 136,
      "outputs": [
        {
          "output_type": "stream",
          "text": [
            "the_bachelor table created successfully\n"
          ],
          "name": "stdout"
        }
      ]
    },
    {
      "cell_type": "markdown",
      "metadata": {
        "id": "B0IML3eT3Z2r"
      },
      "source": [
        "(3.) Using the command: \n",
        "`INSERT INTO table (column1 datatype,column2 dataype,...) VALUES (); `,  \n",
        "insert season 1 contestants (rows shown below) into the `the_bachelor` table.  \n",
        "Verify by querying for a sample of 10 rows. \n",
        "\n"
      ]
    },
    {
      "cell_type": "code",
      "metadata": {
        "id": "eZRFEo9i3YNi"
      },
      "source": [
        "# season 1 `The Bachelor` contestants:\n",
        "season1_TheBachelor = \"\"\"(0,1,99.0,23.0,'99.0','The Bachelor','Amanda Marsh','Event Planner','Chanute, Kansas'),\n",
        "(1,1,6.0,29.0,'99.0','The Bachelor','Trista Rehn','Miami Heat Dancer','Miami, Florida'),\n",
        "(2,1,5.0,24.0,'99.0','The Bachelor','Shannon Oliver','Financial Management Consultant','Dallas, Texas'),\n",
        "(3,1,4.0,24.0,'99.0','The Bachelor','Kim','Nanny','Tempe, Arizona'),\n",
        "(4,1,3.0,22.0,'99.0','The Bachelor','Cathy Grimes','Graduate Student','Terra Haute, Indiana'),\n",
        "(5,1,3.0,28.0,'99.0','The Bachelor','Christina','Attorney','Bonita, California'),\n",
        "(6,1,3.0,23.0,'99.0','The Bachelor','LaNease Adams','Actress','Los Angeles, California'),\n",
        "(7,1,3.0,28.0,'99.0','The Bachelor','Rhonda','Commercial Real Estate Agent','Woodward, Oklahoma'),\n",
        "(8,1,2.0,27.0,'99.0','The Bachelor','Alexa','Special Ed. Teacher','Beverly Hills, California'),\n",
        "(9,1,2.0,28.0,'99.0','The Bachelor','Amy','Production Coordinator','New York, New York'),\n",
        "(10,1,2.0,25.0,'99.0','The Bachelor','Angela','Hooters Waitress','Avondale, Arizona'),\n",
        "(11,1,2.0,27.0,'99.0','The Bachelor','Angelique','Actress','Burbank, California'),\n",
        "(12,1,2.0,23.0,'99.0','The Bachelor','Katie','Power Tool Sales Rep.','Malden, Massachusetts'),\n",
        "(13,1,2.0,25.0,'99.0','The Bachelor','Melissa','Photographer','Tempe, Arizona'),\n",
        "(14,1,2.0,27.0,'99.0','The Bachelor','Tina','Graduate Student','Plano, Texas'),\n",
        "(15,1,1.0,29.0,'99.0','The Bachelor','Amber','Business Development Director','Los Angeles, California'),\n",
        "(16,1,1.0,30.0,'99.0','The Bachelor','Daniela','Neuropsychologist','Seattle, Washington'),\n",
        "(17,1,1.0,30.0,'99.0','The Bachelor','Denise','Doctor','Honolulu, Hawaii'),\n",
        "(18,1,1.0,22.0,'99.0','The Bachelor','Jackie','Bar Manager','Pittsburgh, Pennsylvania'),\n",
        "(19,1,1.0,31.0,'99.0','The Bachelor','Jill','Retail Manager','Chicago, Illinois'),\n",
        "(20,1,1.0,27.0,'99.0','The Bachelor','Kristina','Advertising Executive','Los Angeles, California'),\n",
        "(21,1,1.0,29.0,'99.0','The Bachelor','Lisa','Attorney','Dallas, Texas'),\n",
        "(22,1,1.0,24.0,'99.0','The Bachelor','Paula','Insurance Representative','Swansea, Massachusetts'),\n",
        "(23,1,1.0,29.0,'99.0','The Bachelor','Rachel','6th Grade Teacher','Eastchester, New York'),\n",
        "(24,1,1.0,26.0,'99.0','The Bachelor','Wendi','Technology Specialist','Dallas, Texas')\"\"\""
      ],
      "execution_count": 5,
      "outputs": []
    },
    {
      "cell_type": "markdown",
      "metadata": {
        "id": "0zVWQSEmPmHF"
      },
      "source": [
        "WRITE YOUR SOLUTION BELOW:"
      ]
    },
    {
      "cell_type": "code",
      "metadata": {
        "id": "LRtebfREROdh"
      },
      "source": [
        "season1_insert = \"\"\"INSERT INTO the_bachelor(indx,season,ElimWeek,Age,Height,ShowName,Name,Occupation,Hometown) VALUES {1}\"\"\"\n",
        "\n",
        "conn.execute(season1_insert.format(table1_name, season1_TheBachelor))\n",
        "\n",
        "conn.commit()\n"
      ],
      "execution_count": 137,
      "outputs": []
    },
    {
      "cell_type": "markdown",
      "metadata": {
        "id": "n7XkcfJo5xK4"
      },
      "source": [
        "Verifying:"
      ]
    },
    {
      "cell_type": "code",
      "metadata": {
        "id": "_kxop3Ks5-Cm",
        "colab": {
          "base_uri": "https://localhost:8080/"
        },
        "outputId": "790ec376-726a-4f7c-f290-e7c93dad7753"
      },
      "source": [
        "cursor = conn.execute('''SELECT * from the_bachelor limit 10''')\n",
        "for row in cursor:\n",
        "  print(row)"
      ],
      "execution_count": 138,
      "outputs": [
        {
          "output_type": "stream",
          "text": [
            "(0, 1, 99, 23, '99.0', 'The Bachelor', 'Amanda Marsh', 'Event Planner', 'Chanute, Kansas')\n",
            "(1, 1, 6, 29, '99.0', 'The Bachelor', 'Trista Rehn', 'Miami Heat Dancer', 'Miami, Florida')\n",
            "(2, 1, 5, 24, '99.0', 'The Bachelor', 'Shannon Oliver', 'Financial Management Consultant', 'Dallas, Texas')\n",
            "(3, 1, 4, 24, '99.0', 'The Bachelor', 'Kim', 'Nanny', 'Tempe, Arizona')\n",
            "(4, 1, 3, 22, '99.0', 'The Bachelor', 'Cathy Grimes', 'Graduate Student', 'Terra Haute, Indiana')\n",
            "(5, 1, 3, 28, '99.0', 'The Bachelor', 'Christina', 'Attorney', 'Bonita, California')\n",
            "(6, 1, 3, 23, '99.0', 'The Bachelor', 'LaNease Adams', 'Actress', 'Los Angeles, California')\n",
            "(7, 1, 3, 28, '99.0', 'The Bachelor', 'Rhonda', 'Commercial Real Estate Agent', 'Woodward, Oklahoma')\n",
            "(8, 1, 2, 27, '99.0', 'The Bachelor', 'Alexa', 'Special Ed. Teacher', 'Beverly Hills, California')\n",
            "(9, 1, 2, 28, '99.0', 'The Bachelor', 'Amy', 'Production Coordinator', 'New York, New York')\n"
          ],
          "name": "stdout"
        }
      ]
    },
    {
      "cell_type": "markdown",
      "metadata": {
        "id": "isw2nDJKBsOg"
      },
      "source": [
        "(4.) Adding the rest of the seasons via a text file:  \n",
        "\n",
        "1.   Read the contents of the file `contestants.txt` into a variable named `contestants`. \n",
        "2.   Using `INSERT INTO...VALUES...`, inerst to the `the_bachelor` the rest of the seasons' data.   \n",
        "3. How many rows are in the complete table?\n",
        "\n"
      ]
    },
    {
      "cell_type": "markdown",
      "metadata": {
        "id": "aBQK5jgPPpxO"
      },
      "source": [
        "WRITE YOUR SOLUTION BELOW:"
      ]
    },
    {
      "cell_type": "code",
      "metadata": {
        "id": "LJvg1zJMP25N",
        "colab": {
          "resources": {
            "http://localhost:8080/nbextensions/google.colab/files.js": {
              "data": "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",
              "ok": true,
              "headers": [
                [
                  "content-type",
                  "application/javascript"
                ]
              ],
              "status": 200,
              "status_text": ""
            }
          },
          "base_uri": "https://localhost:8080/",
          "height": 73
        },
        "outputId": "043b2774-301c-4b37-c2b5-9e5cf46e6393"
      },
      "source": [
        "#1. Read file content into a variable \n",
        "from google.colab import files\n",
        "uploaded = files.upload()\n",
        "file_name = 'contestants.txt'\n",
        "contestants = uploaded[file_name].decode(\"UTF-8\")"
      ],
      "execution_count": 8,
      "outputs": [
        {
          "output_type": "display_data",
          "data": {
            "text/html": [
              "\n",
              "     <input type=\"file\" id=\"files-c7222d87-90fa-4896-af3f-eb1380981024\" name=\"files[]\" multiple disabled\n",
              "        style=\"border:none\" />\n",
              "     <output id=\"result-c7222d87-90fa-4896-af3f-eb1380981024\">\n",
              "      Upload widget is only available when the cell has been executed in the\n",
              "      current browser session. Please rerun this cell to enable.\n",
              "      </output>\n",
              "      <script src=\"/nbextensions/google.colab/files.js\"></script> "
            ],
            "text/plain": [
              "<IPython.core.display.HTML object>"
            ]
          },
          "metadata": {
            "tags": []
          }
        },
        {
          "output_type": "stream",
          "text": [
            "Saving contestants.txt to contestants.txt\n"
          ],
          "name": "stdout"
        }
      ]
    },
    {
      "cell_type": "code",
      "metadata": {
        "id": "GhfM0RI6aOKx"
      },
      "source": [
        "contestants1 = contestants.split(\",\\n\")\n",
        "contestants1 = [ast.literal_eval(i) for i in contestants1]\n",
        "contestants2 = []\n",
        "for j in contestants1:\n",
        "  if len(j)==2:\n",
        "    contestants2.append(j[0])\n",
        "    contestants2.append(j[1])\n",
        "  else:\n",
        "    contestants2.append(j)\n"
      ],
      "execution_count": 9,
      "outputs": []
    },
    {
      "cell_type": "code",
      "metadata": {
        "id": "fq9m19QZaW36"
      },
      "source": [
        "#2. Insert to the_bachelor table \n",
        "for contestant in contestants2:\n",
        "  conn.execute(\"INSERT INTO the_bachelor VALUES (?,?,?,?,?,?,?,?,?)\",contestant)\n",
        "  \n",
        "conn.commit()\n"
      ],
      "execution_count": 139,
      "outputs": []
    },
    {
      "cell_type": "code",
      "metadata": {
        "id": "B7koIvP7Rmub",
        "colab": {
          "base_uri": "https://localhost:8080/"
        },
        "outputId": "c5570c92-5aab-4fac-f6db-45dd7deba88d"
      },
      "source": [
        "#3. Compute and print number of rows \n",
        "count_rows = conn.execute('''SELECT COUNT (*) from the_bachelor''')\n",
        "print(count_rows.fetchone()[0])"
      ],
      "execution_count": 140,
      "outputs": [
        {
          "output_type": "stream",
          "text": [
            "704\n"
          ],
          "name": "stdout"
        }
      ]
    },
    {
      "cell_type": "markdown",
      "metadata": {
        "id": "_8TEEh38dxBX"
      },
      "source": [
        "(5.) Load data from the `bach538` CSV file directly into a new table named `bachInfo` using Pandas' `df.to_sql` method.   \n",
        "\n",
        "\n",
        "1.   Load the CSV file into a pandas dataframe.\n",
        "2.   Using the dataframe's `.to_sql` method (look for the exact parameters), create a new tale named `bachInfo`. \n",
        "3. Print the column NAMES of the table.\n",
        "\n"
      ]
    },
    {
      "cell_type": "markdown",
      "metadata": {
        "id": "1yB11jCSPsYa"
      },
      "source": [
        "WRITE YOUR SOLUTION BELOW:"
      ]
    },
    {
      "cell_type": "code",
      "metadata": {
        "colab": {
          "resources": {
            "http://localhost:8080/nbextensions/google.colab/files.js": {
              "data": "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",
              "ok": true,
              "headers": [
                [
                  "content-type",
                  "application/javascript"
                ]
              ],
              "status": 200,
              "status_text": ""
            }
          },
          "base_uri": "https://localhost:8080/",
          "height": 73
        },
        "id": "Y2tvQR4pFweT",
        "outputId": "5a1a6b0a-93c3-4c76-e70d-1be540c1e8f4"
      },
      "source": [
        "from google.colab import files\n",
        "uploaded = files.upload()\n",
        "\n",
        "bachInfo   = pd.read_csv(\"bach538.csv\")\n",
        "bach_data = pd.DataFrame(bachInfo)\n",
        "#2\n",
        "bach_data.to_sql('bachInfo',con=conn, if_exists='fail')"
      ],
      "execution_count": 166,
      "outputs": [
        {
          "output_type": "display_data",
          "data": {
            "text/html": [
              "\n",
              "     <input type=\"file\" id=\"files-70a442ff-f287-484b-883e-c1beb6b111f7\" name=\"files[]\" multiple disabled\n",
              "        style=\"border:none\" />\n",
              "     <output id=\"result-70a442ff-f287-484b-883e-c1beb6b111f7\">\n",
              "      Upload widget is only available when the cell has been executed in the\n",
              "      current browser session. Please rerun this cell to enable.\n",
              "      </output>\n",
              "      <script src=\"/nbextensions/google.colab/files.js\"></script> "
            ],
            "text/plain": [
              "<IPython.core.display.HTML object>"
            ]
          },
          "metadata": {
            "tags": []
          }
        },
        {
          "output_type": "stream",
          "text": [
            "Saving bach538.csv to bach538 (3).csv\n"
          ],
          "name": "stdout"
        }
      ]
    },
    {
      "cell_type": "code",
      "metadata": {
        "id": "RraskHgj6RGT",
        "colab": {
          "base_uri": "https://localhost:8080/"
        },
        "outputId": "2799a4d8-877f-4a00-b52e-86d9e8dbaefc"
      },
      "source": [
        "cursor = conn.execute(\"\"\"PRAGMA table_info(bachInfo)\"\"\")\n",
        "\n",
        "for col in cursor:\n",
        "  print(col[1])"
      ],
      "execution_count": 167,
      "outputs": [
        {
          "output_type": "stream",
          "text": [
            "index\n",
            "SHOW\n",
            "SEASON\n",
            "CONTESTANT\n",
            "ELIMINATION-1\n",
            "ELIMINATION-2\n",
            "ELIMINATION-3\n",
            "ELIMINATION-4\n",
            "ELIMINATION-5\n",
            "ELIMINATION-6\n",
            "ELIMINATION-7\n",
            "ELIMINATION-8\n",
            "ELIMINATION-9\n",
            "ELIMINATION-10\n",
            "DATES-1\n",
            "DATES-2\n",
            "DATES-3\n",
            "DATES-4\n",
            "DATES-5\n",
            "DATES-6\n",
            "DATES-7\n",
            "DATES-8\n",
            "DATES-9\n",
            "DATES-10\n"
          ],
          "name": "stdout"
        }
      ]
    },
    {
      "cell_type": "markdown",
      "metadata": {
        "id": "TzCiFRl_g4ZK"
      },
      "source": [
        "(6.) Drop the first row of the `bachInfo` table. "
      ]
    },
    {
      "cell_type": "markdown",
      "metadata": {
        "id": "D7A4BVQKPt7g"
      },
      "source": [
        "WRITE YOUR SOLUTION BELOW:"
      ]
    },
    {
      "cell_type": "code",
      "metadata": {
        "id": "pwEanaiP6fao",
        "colab": {
          "base_uri": "https://localhost:8080/"
        },
        "outputId": "baa89419-3af9-4eac-cbf2-0f7f1dd7ae87"
      },
      "source": [
        "conn.execute('Delete from bachInfo where rowid IN (Select rowid from bachInfo row limit 1)')\n",
        "\n",
        "cursor = conn.execute('SELECT * from bachInfo limit 1')\n",
        "for row in cursor:\n",
        "  print(row)"
      ],
      "execution_count": 168,
      "outputs": [
        {
          "output_type": "stream",
          "text": [
            "(1, 'Bachelorette', '13', '13_BRYAN_A', 'R1', None, None, 'R', 'R', None, 'R', None, None, 'W', None, None, 'D6', 'D13', 'D1', 'D7', 'D1', 'D1', 'D1', 'D1')\n"
          ],
          "name": "stdout"
        }
      ]
    },
    {
      "cell_type": "markdown",
      "metadata": {
        "id": "wKV9ggeWigz5"
      },
      "source": [
        "(7.) Remove all the occurences of the substring `The` from the `ShowName` column of the `the_bachelor` table, so that it matches the `SHOW` column in the `bachInfo` table.   \n",
        "To do that, you can use the `UPDATE table SET` together with the `SUBSTR` commands. Other commands will be accepted as long as they produce the same result."
      ]
    },
    {
      "cell_type": "markdown",
      "metadata": {
        "id": "Y__eavVcPvVW"
      },
      "source": [
        "WRITE YOUR SOLUTION BELOW:"
      ]
    },
    {
      "cell_type": "code",
      "metadata": {
        "id": "XDO5QEv36nzY",
        "colab": {
          "base_uri": "https://localhost:8080/"
        },
        "outputId": "93ff899b-af0c-4c96-a46c-08361bed4813"
      },
      "source": [
        "# YOUR CODE HERE\n",
        "conn.execute(\"\"\"\n",
        "UPDATE the_bachelor \n",
        "SET ShowName = SUBSTR(ShowName, 5) WHERE ShowName LIKE 'The %'\n",
        "\"\"\")\n",
        "\n",
        "# Verifying\n",
        "cursor = conn.execute(\"SELECT * from the_bachelor limit 10\")\n",
        "for row in cursor:\n",
        "  print(row)"
      ],
      "execution_count": 164,
      "outputs": [
        {
          "output_type": "stream",
          "text": [
            "(0, 1, 99, 23, '99.0', 'Bachelor', 'Amanda Marsh', 'Event Planner', 'Chanute, Kansas', 'AMANDA', 'M')\n",
            "(1, 1, 6, 29, '99.0', 'Bachelor', 'Trista Rehn', 'Miami Heat Dancer', 'Miami, Florida', 'TRISTA', 'R')\n",
            "(2, 1, 5, 24, '99.0', 'Bachelor', 'Shannon Oliver', 'Financial Management Consultant', 'Dallas, Texas', 'SHANNON', 'O')\n",
            "(3, 1, 4, 24, '99.0', 'Bachelor', 'Kim', 'Nanny', 'Tempe, Arizona', '', 'K')\n",
            "(4, 1, 3, 22, '99.0', 'Bachelor', 'Cathy Grimes', 'Graduate Student', 'Terra Haute, Indiana', 'CATHY', 'G')\n",
            "(5, 1, 3, 28, '99.0', 'Bachelor', 'Christina', 'Attorney', 'Bonita, California', '', 'C')\n",
            "(6, 1, 3, 23, '99.0', 'Bachelor', 'LaNease Adams', 'Actress', 'Los Angeles, California', 'LANEASE', 'A')\n",
            "(7, 1, 3, 28, '99.0', 'Bachelor', 'Rhonda', 'Commercial Real Estate Agent', 'Woodward, Oklahoma', '', 'R')\n",
            "(8, 1, 2, 27, '99.0', 'Bachelor', 'Alexa', 'Special Ed. Teacher', 'Beverly Hills, California', '', 'A')\n",
            "(9, 1, 2, 28, '99.0', 'Bachelor', 'Amy', 'Production Coordinator', 'New York, New York', '', 'A')\n"
          ],
          "name": "stdout"
        }
      ]
    },
    {
      "cell_type": "markdown",
      "metadata": {
        "id": "_KejeCLDlopx"
      },
      "source": [
        "(8.) For both tables, add a `first_name` and `last_initial` columns, both having all uppercase.   \n",
        "\n",
        "\n",
        "1.   Add the new column names to the tables using `ALTER TABLE`. \n",
        "2.   Populate the new columns `first_name` and `last_initial` by the `UPPER` of the candidate's first name (if exists), and the UPPER of the initial (first letter) of the family name (if exists), respectively.   \n",
        "\n"
      ]
    },
    {
      "cell_type": "markdown",
      "metadata": {
        "id": "5jYGbr_LPwy2"
      },
      "source": [
        "WRITE YOUR SOLUTION BELOW:\n",
        "\n",
        "For the `the_bachelor` table:"
      ]
    },
    {
      "cell_type": "code",
      "metadata": {
        "id": "XFkPILvnt2Dl"
      },
      "source": [
        "# 1. Add column names to first table \n",
        "query_add_firstN = \"\"\"ALTER TABLE the_bachelor\n",
        "ADD first_name datatype\"\"\"\n",
        "conn.execute(query_add_firstN)\n",
        "conn.commit()\n",
        "\n",
        "query_add_lastI = \"\"\" ALTER TABLE the_bachelor\n",
        "ADD last_initial datatype\"\"\"\n",
        "conn.execute(query_add_lastI)\n",
        "conn.commit()"
      ],
      "execution_count": 157,
      "outputs": []
    },
    {
      "cell_type": "code",
      "metadata": {
        "id": "fhycRapPDHy4",
        "colab": {
          "base_uri": "https://localhost:8080/"
        },
        "outputId": "9eeb2033-2599-4215-e9cf-67844cff4a44"
      },
      "source": [
        "# 2. Populate new columns for first table \n",
        "query_update_firstN = \"\"\" \n",
        "UPDATE the_bachelor \n",
        "SET first_name = UPPER(SUBSTR(Name,0,INSTR(Name, \" \")))\n",
        "\"\"\"\n",
        "conn.execute(query_update_firstN)\n",
        "conn.commit()\n",
        "\n",
        "query_update_lastI = \"\"\" \n",
        "UPDATE the_bachelor \n",
        "SET last_initial = UPPER(SUBSTR(Name,INSTR(Name, \" \")+1,1))\n",
        "\"\"\"\n",
        "conn.execute(query_update_lastI)\n",
        "conn.commit()\n",
        "\n",
        "# Verifying:\n",
        "cursor = conn.execute('''SELECT * from the_bachelor limit 10''')\n",
        "for row in cursor:\n",
        "  print(row)"
      ],
      "execution_count": 158,
      "outputs": [
        {
          "output_type": "stream",
          "text": [
            "(0, 1, 99, 23, '99.0', 'Bachelor', 'Amanda Marsh', 'Event Planner', 'Chanute, Kansas', 'AMANDA', 'M')\n",
            "(1, 1, 6, 29, '99.0', 'Bachelor', 'Trista Rehn', 'Miami Heat Dancer', 'Miami, Florida', 'TRISTA', 'R')\n",
            "(2, 1, 5, 24, '99.0', 'Bachelor', 'Shannon Oliver', 'Financial Management Consultant', 'Dallas, Texas', 'SHANNON', 'O')\n",
            "(3, 1, 4, 24, '99.0', 'Bachelor', 'Kim', 'Nanny', 'Tempe, Arizona', '', 'K')\n",
            "(4, 1, 3, 22, '99.0', 'Bachelor', 'Cathy Grimes', 'Graduate Student', 'Terra Haute, Indiana', 'CATHY', 'G')\n",
            "(5, 1, 3, 28, '99.0', 'Bachelor', 'Christina', 'Attorney', 'Bonita, California', '', 'C')\n",
            "(6, 1, 3, 23, '99.0', 'Bachelor', 'LaNease Adams', 'Actress', 'Los Angeles, California', 'LANEASE', 'A')\n",
            "(7, 1, 3, 28, '99.0', 'Bachelor', 'Rhonda', 'Commercial Real Estate Agent', 'Woodward, Oklahoma', '', 'R')\n",
            "(8, 1, 2, 27, '99.0', 'Bachelor', 'Alexa', 'Special Ed. Teacher', 'Beverly Hills, California', '', 'A')\n",
            "(9, 1, 2, 28, '99.0', 'Bachelor', 'Amy', 'Production Coordinator', 'New York, New York', '', 'A')\n"
          ],
          "name": "stdout"
        }
      ]
    },
    {
      "cell_type": "markdown",
      "metadata": {
        "id": "9TZrHcmp2QBN"
      },
      "source": [
        "For the `bachInfo` table:"
      ]
    },
    {
      "cell_type": "code",
      "metadata": {
        "id": "XwMzm2z6y7Up"
      },
      "source": [
        "# 1. Add column names to second table \n",
        "query_add_firstN = '''ALTER TABLE bachInfo\n",
        "ADD first_name datatype'''\n",
        "conn.execute(query_add_firstN)\n",
        "conn.commit()\n",
        "query_add_lastI = \"\"\" ALTER TABLE bachInfo\n",
        "ADD last_initial datatype\"\"\"\n",
        "conn.execute(query_add_lastI)\n",
        "conn.commit()"
      ],
      "execution_count": 169,
      "outputs": []
    },
    {
      "cell_type": "code",
      "metadata": {
        "id": "S1Oxz98XDEiZ",
        "colab": {
          "base_uri": "https://localhost:8080/"
        },
        "outputId": "a41fd76d-a612-4cc3-90c1-2d28d39c9d22"
      },
      "source": [
        "# 2. Populate new columns for second table \n",
        "query_update_firstN = \"\"\" \n",
        "UPDATE bachInfo \n",
        "SET first_name = UPPER(SUBSTR(CONTESTANT,INSTR(CONTESTANT,'_')+1,INSTR(SUBSTR(CONTESTANT,INSTR(CONTESTANT,'_')+1),'_')-1))\n",
        "\"\"\"\n",
        "conn.execute(query_update_firstN)\n",
        "conn.commit()\n",
        "\n",
        "query_update_lastI = \"\"\" \n",
        "UPDATE bachInfo \n",
        "SET last_initial = UPPER(SUBSTR(CONTESTANT,INSTR(SUBSTR(CONTESTANT,INSTR(CONTESTANT,'_')+1),'_')+INSTR(CONTESTANT,'_')+1,1))\n",
        "\"\"\"\n",
        "conn.execute(query_update_lastI)\n",
        "conn.commit()\n",
        "\n",
        "# Verifying:\n",
        "cursor = conn.execute('''SELECT * from bachInfo limit 10''')\n",
        "for row in cursor:\n",
        "  print(row)\n"
      ],
      "execution_count": 170,
      "outputs": [
        {
          "output_type": "stream",
          "text": [
            "(1, 'Bachelorette', '13', '13_BRYAN_A', 'R1', None, None, 'R', 'R', None, 'R', None, None, 'W', None, None, 'D6', 'D13', 'D1', 'D7', 'D1', 'D1', 'D1', 'D1', 'BRYAN', 'A')\n",
            "(2, 'Bachelorette', '13', '13_PETER_K', None, 'R', None, None, None, 'R', 'R', None, None, 'E', None, 'D1', 'D6', 'D13', 'D9', 'D7', 'D1', 'D1', 'D1', 'D1', 'PETER', 'K')\n",
            "(3, 'Bachelorette', '13', '13_ERIC_B', None, None, 'R', None, None, 'R', 'R', None, 'E', None, None, 'D10', 'D8', 'D13', 'D9', 'D1', 'D3', 'D1', 'D1', None, 'ERIC', 'B')\n",
            "(4, 'Bachelorette', '13', '13_DEAN_U', None, 'R', None, 'R', None, None, 'R', 'E', None, None, None, 'D8', 'D8', 'D1', 'D9', 'D7', 'D1', 'D1', None, None, 'DEAN', 'U')\n",
            "(5, 'Bachelorette', '13', '13_ADAM_G', None, None, None, None, None, None, 'ED', None, None, None, None, 'D10', 'D8', 'D13', 'D9', 'D7', 'D3', None, None, None, 'ADAM', 'G')\n",
            "(6, 'Bachelorette', '13', '13_MATT_M', None, None, None, None, None, None, 'ED', None, None, None, None, 'D10', None, 'D13', 'D9', 'D7', 'D3', None, None, None, 'MATT', 'M')\n",
            "(7, 'Bachelorette', '13', '13_ALEX_B', None, None, 'R', None, None, 'E', None, None, None, None, None, 'D10', 'D6', 'D13', 'D9', 'D7', None, None, None, None, 'ALEX', 'B')\n",
            "(8, 'Bachelorette', '13', '13_WILL_G', None, None, None, None, 'R', 'ED', None, None, None, None, None, 'D10', 'D6', 'D13', 'D9', 'D1', None, None, None, None, 'WILL', 'G')\n",
            "(9, 'Bachelorette', '13', '13_KENNY_L', None, None, None, None, 'R', 'ED', None, None, None, None, None, 'D8', 'D8', 'D13', 'D2', 'D7', None, None, None, None, 'KENNY', 'L')\n",
            "(10, 'Bachelorette', '13', '13_ANTHONY_B', None, None, 'R', None, 'E', None, None, None, None, None, None, None, 'D1', 'D13', 'D9', None, None, None, None, None, 'ANTHONY', 'B')\n"
          ],
          "name": "stdout"
        }
      ]
    },
    {
      "cell_type": "markdown",
      "metadata": {
        "id": "NiyyqaAO6if5"
      },
      "source": [
        "(9.) Write and execute a statement (query) that Left joins  the `bachInfo`  table and the `the_bachelor` table (`From bachInfo LEFT JOIN the_bachelor`) based on `first_name`,`last_initial`, and  `ShowName`. Limit the output to 100 rows. "
      ]
    },
    {
      "cell_type": "markdown",
      "metadata": {
        "id": "6IQMCv65Py-k"
      },
      "source": [
        "WRITE YOUR SOLUTION BELOW:"
      ]
    },
    {
      "cell_type": "code",
      "metadata": {
        "id": "75AWj8RoDBxf",
        "colab": {
          "base_uri": "https://localhost:8080/"
        },
        "outputId": "c2f8b029-215c-4515-9bf3-1df945b88f54"
      },
      "source": [
        "left_join_query = \"\"\" SELECT * FROM bachInfo LEFT JOIN the_bachelor\n",
        "ON (the_bachelor.ShowName = bachInfo.SHOW and the_bachelor.first_name = bachInfo.first_name and the_bachelor.last_initial = bachInfo.last_initial )\n",
        "LIMIT 100 \"\"\"\n",
        "\n",
        "cursor = conn.execute(left_join_query)\n",
        "for row in cursor:\n",
        "  print(row)\n"
      ],
      "execution_count": 171,
      "outputs": [
        {
          "output_type": "stream",
          "text": [
            "(1, 'Bachelorette', '13', '13_BRYAN_A', 'R1', None, None, 'R', 'R', None, 'R', None, None, 'W', None, None, 'D6', 'D13', 'D1', 'D7', 'D1', 'D1', 'D1', 'D1', 'BRYAN', 'A', None, None, None, None, None, None, None, None, None, None, None)\n",
            "(2, 'Bachelorette', '13', '13_PETER_K', None, 'R', None, None, None, 'R', 'R', None, None, 'E', None, 'D1', 'D6', 'D13', 'D9', 'D7', 'D1', 'D1', 'D1', 'D1', 'PETER', 'K', None, None, None, None, None, None, None, None, None, None, None)\n",
            "(3, 'Bachelorette', '13', '13_ERIC_B', None, None, 'R', None, None, 'R', 'R', None, 'E', None, None, 'D10', 'D8', 'D13', 'D9', 'D1', 'D3', 'D1', 'D1', None, 'ERIC', 'B', None, None, None, None, None, None, None, None, None, None, None)\n",
            "(4, 'Bachelorette', '13', '13_DEAN_U', None, 'R', None, 'R', None, None, 'R', 'E', None, None, None, 'D8', 'D8', 'D1', 'D9', 'D7', 'D1', 'D1', None, None, 'DEAN', 'U', None, None, None, None, None, None, None, None, None, None, None)\n",
            "(5, 'Bachelorette', '13', '13_ADAM_G', None, None, None, None, None, None, 'ED', None, None, None, None, 'D10', 'D8', 'D13', 'D9', 'D7', 'D3', None, None, None, 'ADAM', 'G', None, None, None, None, None, None, None, None, None, None, None)\n",
            "(6, 'Bachelorette', '13', '13_MATT_M', None, None, None, None, None, None, 'ED', None, None, None, None, 'D10', None, 'D13', 'D9', 'D7', 'D3', None, None, None, 'MATT', 'M', None, None, None, None, None, None, None, None, None, None, None)\n",
            "(7, 'Bachelorette', '13', '13_ALEX_B', None, None, 'R', None, None, 'E', None, None, None, None, None, 'D10', 'D6', 'D13', 'D9', 'D7', None, None, None, None, 'ALEX', 'B', None, None, None, None, None, None, None, None, None, None, None)\n",
            "(8, 'Bachelorette', '13', '13_WILL_G', None, None, None, None, 'R', 'ED', None, None, None, None, None, 'D10', 'D6', 'D13', 'D9', 'D1', None, None, None, None, 'WILL', 'G', None, None, None, None, None, None, None, None, None, None, None)\n",
            "(9, 'Bachelorette', '13', '13_KENNY_L', None, None, None, None, 'R', 'ED', None, None, None, None, None, 'D8', 'D8', 'D13', 'D2', 'D7', None, None, None, None, 'KENNY', 'L', None, None, None, None, None, None, None, None, None, None, None)\n",
            "(10, 'Bachelorette', '13', '13_ANTHONY_B', None, None, 'R', None, 'E', None, None, None, None, None, None, None, 'D1', 'D13', 'D9', None, None, None, None, None, 'ANTHONY', 'B', None, None, None, None, None, None, None, None, None, None, None)\n",
            "(11, 'Bachelorette', '13', '13_JOSIAH_G', None, 'R', None, None, 'E', None, None, None, None, None, None, 'D10', None, 'D13', 'D9', None, None, None, None, None, 'JOSIAH', 'G', None, None, None, None, None, None, None, None, None, None, None)\n",
            "(12, 'Bachelorette', '13', '13_LEE_G', None, None, None, None, 'ED', None, None, None, None, None, None, 'D10', 'D8', 'D13', 'D2', None, None, None, None, None, 'LEE', 'G', None, None, None, None, None, None, None, None, None, None, None)\n",
            "(13, 'Bachelorette', '13', '13_IGGY_R', None, None, None, 'E', None, None, None, None, None, None, None, 'D8', None, 'D13', None, None, None, None, None, None, 'IGGY', 'R', None, None, None, None, None, None, None, None, None, None, None)\n",
            "(14, 'Bachelorette', '13', '13_JONATHAN_T', None, None, None, 'E', None, None, None, None, None, None, None, 'D8', 'D6', 'D13', None, None, None, None, None, None, 'JONATHAN', 'T', None, None, None, None, None, None, None, None, None, None, None)\n",
            "(15, 'Bachelorette', '13', '13_JACK_S', None, None, None, 'ED', None, None, None, None, None, None, None, 'D8', 'D8', 'D1', None, None, None, None, None, None, 'JACK', 'S', None, None, None, None, None, None, None, None, None, None, None)\n",
            "(16, 'Bachelorette', '13', '13_BRADY_E', None, None, 'E', None, None, None, None, None, None, None, None, None, 'D8', None, None, None, None, None, None, None, 'BRADY', 'E', None, None, None, None, None, None, None, None, None, None, None)\n",
            "(17, 'Bachelorette', '13', '13_BRYCE_P', None, None, 'E', None, None, None, None, None, None, None, None, None, 'D8', None, None, None, None, None, None, None, 'BRYCE', 'P', None, None, None, None, None, None, None, None, None, None, None)\n",
            "(18, 'Bachelorette', '13', '13_DIGGY_M', None, None, 'E', None, None, None, None, None, None, None, None, 'D10', None, None, None, None, None, None, None, None, 'DIGGY', 'M', None, None, None, None, None, None, None, None, None, None, None)\n",
            "(19, 'Bachelorette', '13', '13_FRED_J', None, None, 'ED', None, None, None, None, None, None, None, None, 'D8', 'D6', None, None, None, None, None, None, None, 'FRED', 'J', None, None, None, None, None, None, None, None, None, None, None)\n",
            "(20, 'Bachelorette', '13', '13_BLAKE_E', None, 'E', None, None, None, None, None, None, None, None, None, 'D8', None, None, None, None, None, None, None, None, 'BLAKE', 'E', None, None, None, None, None, None, None, None, None, None, None)\n",
            "(21, 'Bachelorette', '13', '13_JAMEY_K', None, 'E', None, None, None, None, None, None, None, None, None, 'D10', None, None, None, None, None, None, None, None, 'JAMEY', 'K', None, None, None, None, None, None, None, None, None, None, None)\n",
            "(22, 'Bachelorette', '13', '13_LUCAS_Y', None, 'E', None, None, None, None, None, None, None, None, None, 'D8', None, None, None, None, None, None, None, None, 'LUCAS', 'Y', None, None, None, None, None, None, None, None, None, None, None)\n",
            "(23, 'Bachelorette', '13', '13_DEMARIO_J', None, 'EU', None, None, None, None, None, None, None, None, None, 'D10', None, None, None, None, None, None, None, None, 'DEMARIO', 'J', None, None, None, None, None, None, None, None, None, None, None)\n",
            "(24, 'Bachelorette', '13', '13_BLAKE_K', 'E', None, None, None, None, None, None, None, None, None, None, None, None, None, None, None, None, None, None, None, 'BLAKE', 'K', None, None, None, None, None, None, None, None, None, None, None)\n",
            "(25, 'Bachelorette', '13', '13_GRANT_H', 'E', None, None, None, None, None, None, None, None, None, None, None, None, None, None, None, None, None, None, None, 'GRANT', 'H', None, None, None, None, None, None, None, None, None, None, None)\n",
            "(26, 'Bachelorette', '13', '13_JEDIDIAH_B', 'E', None, None, None, None, None, None, None, None, None, None, None, None, None, None, None, None, None, None, None, 'JEDIDIAH', 'B', None, None, None, None, None, None, None, None, None, None, None)\n",
            "(27, 'Bachelorette', '13', '13_KYLE_S', 'E', None, None, None, None, None, None, None, None, None, None, None, None, None, None, None, None, None, None, None, 'KYLE', 'S', None, None, None, None, None, None, None, None, None, None, None)\n",
            "(28, 'Bachelorette', '13', '13_MICHAEL_B', 'E', None, None, None, None, None, None, None, None, None, None, None, None, None, None, None, None, None, None, None, 'MICHAEL', 'B', 575, 7, 1, 29, '99.0', 'Bachelorette', 'Michael Burns', 'Technology Salesman', 'Providence, Rhode Island', 'MICHAEL', 'B')\n",
            "(29, 'Bachelorette', '13', '13_MILTON_L', 'E', None, None, None, None, None, None, None, None, None, None, None, None, None, None, None, None, None, None, None, 'MILTON', 'L', None, None, None, None, None, None, None, None, None, None, None)\n",
            "(30, 'Bachelorette', '13', '13_MOHIT_S', 'E', None, None, None, None, None, None, None, None, None, None, None, None, None, None, None, None, None, None, None, 'MOHIT', 'S', None, None, None, None, None, None, None, None, None, None, None)\n",
            "(31, 'Bachelorette', '13', '13_ROB_H', 'E', None, None, None, None, None, None, None, None, None, None, None, None, None, None, None, None, None, None, None, 'ROB', 'H', None, None, None, None, None, None, None, None, None, None, None)\n",
            "(32, 'Bachelorette', 'SEASON', 'ID', '1', '2', '3', '4', '5', '6', '7', '8', '9', '10', '1', '2', '3', '4', '5', '6', '7', '8', '9', '10', '', 'I', None, None, None, None, None, None, None, None, None, None, None)\n",
            "(33, 'Bachelorette', '12', '12_JORDAN_R', 'R1', None, None, 'R', 'R', None, None, None, None, 'W', None, 'D6', 'D12', 'D11', 'D1', 'D5', 'D1', 'D1', 'D1', 'D1', 'JORDAN', 'R', 679, 12, 99, 27, '99.0', 'Bachelorette', 'Jordan Rodgers', 'Former Pro Quarterback', 'Chico, California', 'JORDAN', 'R')\n",
            "(34, 'Bachelorette', '12', '12_ROBBY_H', None, None, None, None, 'R', None, 'R', None, None, 'E', None, 'D10', None, 'D11', 'D9', 'D5', 'D3', 'D1', 'D1', 'D1', 'ROBBY', 'H', 680, 12, 10, 27, '99.0', 'Bachelorette', 'Robby Hayes', 'Former Competitive Swimmer', 'St. Augustine, Florida', 'ROBBY', 'H')\n",
            "(35, 'Bachelorette', '12', '12_CHASE_M', None, None, 'R', None, None, 'R', None, None, 'ED', None, None, None, 'D1', 'D11', 'D9', 'D2', 'D3', 'D1', 'D1', None, 'CHASE', 'M', 681, 12, 9, 27, '99.0', 'Bachelorette', 'Chase McNary', 'Medical Sales Rep', 'Castle Rock, Colorado', 'CHASE', 'M')\n",
            "(36, 'Bachelorette', '12', '12_LUKE_P', None, None, None, 'R', None, 'R', None, 'E', None, None, None, 'D10', None, 'D1', 'D9', 'D5', 'D1', 'D1', None, None, 'LUKE', 'P', 682, 12, 8, 31, '99.0', 'Bachelorette', 'Luke Pell', 'War Veteran', 'Burnet, Texas', 'LUKE', 'P')\n",
            "(37, 'Bachelorette', '12', '12_JAMES_T', None, 'R', 'R', None, None, None, 'E', None, None, None, None, 'D6', 'D1', 'D11', 'D9', 'D5', 'D3', None, None, None, 'JAMES', 'T', 683, 12, 7, 29, '99.0', 'Bachelorette', 'James Taylor', 'Singer-Songwriter', 'Katy, Texas', 'JAMES', 'T')\n",
            "(38, 'Bachelorette', '12', '12_ALEX_W', None, None, None, 'R', None, None, 'ED', None, None, None, None, 'D6', 'D12', 'D2', 'D9', 'D5', 'D1', None, None, None, 'ALEX', 'W', 684, 12, 7, 25, '99.0', 'Bachelorette', 'Alex Woytkiw', 'U.S. Marine', 'Oceanside, California', 'ALEX', 'W')\n",
            "(39, 'Bachelorette', '12', '12_DEREK_P', None, 'R', None, None, 'R', 'ED', None, None, None, None, None, 'D1', None, 'D11', 'D1', 'D2', None, None, None, None, 'DEREK', 'P', 685, 12, 6, 29, '99.0', 'Bachelorette', 'Derek Peth', 'Commercial Banker', 'Waverly, Iowa', 'DEREK', 'P')\n",
            "(40, 'Bachelorette', '12', '12_WELLS_A', None, 'R', None, None, None, 'ED', None, None, None, None, None, 'D10', 'D12', 'D11', 'D9', 'D1', None, None, None, None, 'WELLS', 'A', 686, 12, 6, 31, '99.0', 'Bachelorette', 'Wells Adams', 'Radio DJ', 'Monterey, California', 'WELLS', 'A')\n",
            "(41, 'Bachelorette', '12', '12_VINCENT_V', None, None, None, None, 'E', None, None, None, None, None, None, 'D10', 'D12', 'D11', 'D9', None, None, None, None, None, 'VINCENT', 'V', None, None, None, None, None, None, None, None, None, None, None)\n",
            "(42, 'Bachelorette', '12', '12_GRANT_K', None, None, None, None, 'E', None, None, None, None, None, None, 'D10', 'D12', 'D11', 'D9', None, None, None, None, None, 'GRANT', 'K', 688, 12, 5, 27, '99.0', 'Bachelorette', 'Grant Kemp', 'Firefighter', 'San Francisco, California', 'GRANT', 'K')\n",
            "(43, 'Bachelorette', '12', '12_EVAN_B', None, None, 'R', None, 'E', None, None, None, None, None, None, 'D10', 'D12', 'D11', 'D9', None, None, None, None, None, 'EVAN', 'B', 687, 12, 5, 33, '99.0', 'Bachelorette', 'Evan Bass', 'Erectile Dysfunction Specialist', 'Hartford, Connecticut', 'EVAN', 'B')\n",
            "(44, 'Bachelorette', '12', '12_JAMES_F', None, None, None, 'E', None, None, None, None, None, None, None, 'D10', 'D12', 'D11', None, None, None, None, None, None, 'JAMES', 'F', 691, 12, 4, 34, '99.0', 'Bachelorette', 'James Fuertes', 'Boxing Club Owner', 'Franklin, Tennessee', 'JAMES', 'F')\n",
            "(45, 'Bachelorette', '12', '12_DANIEL_M', None, None, None, 'E', None, None, None, None, None, None, None, 'D10', 'D12', 'D11', None, None, None, None, None, None, 'DANIEL', 'M', 690, 12, 4, 31, '99.0', 'Bachelorette', 'Daniel Maguire', 'Male Model', 'Lions Bay, British Columbia', 'DANIEL', 'M')\n",
            "(46, 'Bachelorette', '12', '12_CHAD_J', None, None, None, 'ED', None, None, None, None, None, None, None, 'D6', 'D12', 'D2', None, None, None, None, None, None, 'CHAD', 'J', 692, 12, 4, 28, '99.0', 'Bachelorette', 'Chad Johnson', 'Luxury Real Estate Agent', 'Jenks, Oklahoma', 'CHAD', 'J')\n",
            "(47, 'Bachelorette', '12', '12_NICK_B', None, None, 'E', None, None, None, None, None, None, None, None, 'D6', 'D12', None, None, None, None, None, None, None, 'NICK', 'B', 695, 12, 3, 33, '99.0', 'Bachelorette', 'Nick Benvenutti', 'Electrical Engineer', 'Carthage, Illinois', 'NICK', 'B')\n",
            "(48, 'Bachelorette', '12', '12_CHRISTIAN_B', None, None, 'E', None, None, None, None, None, None, None, None, 'D6', 'D12', None, None, None, None, None, None, None, 'CHRISTIAN', 'B', 694, 12, 3, 26, '99.0', 'Bachelorette', 'Christian Bishop', 'Telecom Consultant', 'Los Angeles, California', 'CHRISTIAN', 'B')\n",
            "(49, 'Bachelorette', '12', '12_ALI_Z', None, None, 'E', None, None, None, None, None, None, None, None, 'D10', 'D12', None, None, None, None, None, None, None, 'ALI', 'Z', 693, 12, 3, 27, '99.0', 'Bachelorette', 'Ali Zahiri', 'Bartender', 'Santa Monica, California', 'ALI', 'Z')\n",
            "(50, 'Bachelorette', '12', '12_WILL_H', None, 'E', None, None, None, None, None, None, None, None, None, 'D10', None, None, None, None, None, None, None, None, 'WILL', 'H', 698, 12, 2, 26, '99.0', 'Bachelorette', 'Will Haduch', 'Civil Engineer', 'Jersey City, New Jersey', 'WILL', 'H')\n",
            "(51, 'Bachelorette', '12', '12_JAMES_S', None, 'E', None, None, None, None, None, None, None, None, None, None, None, None, None, None, None, None, None, None, 'JAMES', 'S', 697, 12, 2, 27, '99.0', 'Bachelorette', 'James Spadafore', 'Bachelor Superfan', 'Phoenix, Arizona', 'JAMES', 'S')\n",
            "(52, 'Bachelorette', '12', '12_BRANDON_H', None, 'E', None, None, None, None, None, None, None, None, None, None, None, None, None, None, None, None, None, None, 'BRANDON', 'H', 696, 12, 2, 28, '99.0', 'Bachelorette', 'Brandon Howell', 'Hipster', 'Marysville, Washington', 'BRANDON', 'H')\n",
            "(53, 'Bachelorette', '12', '12_SAL_D', 'E', None, None, None, None, None, None, None, None, None, None, None, None, None, None, None, None, None, None, None, 'SAL', 'D', 704, 12, 1, 28, '99.0', 'Bachelorette', 'Sal DeJulio', 'Operations Manager', 'Hubbard, Ohio', 'SAL', 'D')\n",
            "(54, 'Bachelorette', '12', '12_PETER_M', 'E', None, None, None, None, None, None, None, None, None, None, None, None, None, None, None, None, None, None, None, 'PETER', 'M', 703, 12, 1, 26, '99.0', 'Bachelorette', 'Peter Medina', 'Staffing Agency Manager', 'Rockdale, Illinois', 'PETER', 'M')\n",
            "(55, 'Bachelorette', '12', '12_NICK_S', 'E', None, None, None, None, None, None, None, None, None, None, None, None, None, None, None, None, None, None, None, 'NICK', 'S', 646, 10, 2, 27, '99.0', 'Bachelorette', 'Nick Sutter', 'Professional Golfer', 'Barrington, Illinois', 'NICK', 'S')\n",
            "(55, 'Bachelorette', '12', '12_NICK_S', 'E', None, None, None, None, None, None, None, None, None, None, None, None, None, None, None, None, None, None, None, 'NICK', 'S', 702, 12, 1, 26, '99.0', 'Bachelorette', 'Nick Sharp', 'Software Salesman', 'San Francisco, California', 'NICK', 'S')\n",
            "(56, 'Bachelorette', '12', '12_JONATHAN_H', 'E', None, None, None, None, None, None, None, None, None, None, None, None, None, None, None, None, None, None, None, 'JONATHAN', 'H', 666, 11, 4, 33, '99.0', 'Bachelorette', 'Jonathan Holloway', 'Automotive Spokesman', 'Sylvan Lake, Michigan', 'JONATHAN', 'H')\n",
            "(56, 'Bachelorette', '12', '12_JONATHAN_H', 'E', None, None, None, None, None, None, None, None, None, None, None, None, None, None, None, None, None, None, None, 'JONATHAN', 'H', 701, 12, 1, 29, '99.0', 'Bachelorette', 'Jonathan Hamilton', 'Technical Sales Rep', 'Vancouver, British Columbia', 'JONATHAN', 'H')\n",
            "(57, 'Bachelorette', '12', '12_JAKE_P', 'E', None, None, None, None, None, None, None, None, None, None, None, None, None, None, None, None, None, None, None, 'JAKE', 'P', 504, 5, 6, 31, '99.0', 'Bachelorette', 'Jake Pavelka', 'Commercial Pilot', 'Denton, Texas', 'JAKE', 'P')\n",
            "(57, 'Bachelorette', '12', '12_JAKE_P', 'E', None, None, None, None, None, None, None, None, None, None, None, None, None, None, None, None, None, None, None, 'JAKE', 'P', 700, 12, 1, 26, '99.0', 'Bachelorette', 'Jake Patton', 'Landscape Architect', 'Playa Vista, California', 'JAKE', 'P')\n",
            "(58, 'Bachelorette', '12', '12_COLEY_K', 'E', None, None, None, None, None, None, None, None, None, None, None, None, None, None, None, None, None, None, None, 'COLEY', 'K', 699, 12, 1, 27, '99.0', 'Bachelorette', 'Coley Knust', 'Real Estate Consultant', 'Chicago, Illinois', 'COLEY', 'K')\n",
            "(59, 'Bachelorette', 'SEASON', 'ID', '1', '2', '3', '4', '5', '6', '7', '8', '9', '10', '1', '2', '3', '4', '5', '6', '7', '8', '9', '10', '', 'I', None, None, None, None, None, None, None, None, None, None, None)\n",
            "(60, 'Bachelorette', '11', '11_SHAWN_B', 'R1', None, 'R', None, 'R', None, None, None, 'W', None, None, None, 'D6', 'D8', 'D1', None, 'D3', 'D1', 'D1', None, 'SHAWN', 'B', 653, 11, 99, 28, '99.0', 'Bachelorette', 'Shawn Booth', 'Personal Trainer', 'Windsor Locks, Connecticut', 'SHAWN', 'B')\n",
            "(61, 'Bachelorette', '11', '11_NICK_V', None, None, None, None, 'R', 'R', None, None, 'E', None, None, None, None, None, 'D9', 'D1', 'D3', 'D1', 'D1', None, 'NICK', 'V', 629, 10, 10, 33, '99.0', 'Bachelorette', 'Nick Viall', 'Software Sales Executive', 'Waukesha, Wisconsin', 'NICK', 'V')\n",
            "(61, 'Bachelorette', '11', '11_NICK_V', None, None, None, None, 'R', 'R', None, None, 'E', None, None, None, None, None, 'D9', 'D1', 'D3', 'D1', 'D1', None, 'NICK', 'V', 654, 11, 9, 34, '99.0', 'Bachelorette', 'Nick Viall', 'Software Sales Executive', 'Waukesha, Wisconsin', 'NICK', 'V')\n",
            "(62, 'Bachelorette', '11', '11_BEN_H', None, None, 'R', None, 'R', None, None, 'E', None, None, None, 'D8', 'D6', 'D5', 'D1', 'D5', 'D1', 'D1', None, None, 'BEN', 'H', 655, 11, 8, 26, '99.0', 'Bachelorette', 'Ben Higgins', 'Software Salesman', 'Warsaw, Indiana', 'BEN', 'H')\n",
            "(63, 'Bachelorette', '11', '11_JARED_H', None, None, None, 'R', None, 'R', 'E', None, None, None, None, 'D8', 'D6', 'D1', 'D9', 'D5', 'D1', 'D1', None, None, 'JARED', 'H', 656, 11, 7, 26, '99.0', 'Bachelorette', 'Jared Haibon', 'Restaurant Manager', 'Warwick, Rhode Island', 'JARED', 'H')\n",
            "(64, 'Bachelorette', '11', '11_JOE_B', None, None, None, None, None, 'R', 'ED', None, None, None, None, 'D7', 'D6', 'D5', None, 'D2', 'D3', None, None, None, 'JOE', 'B', 657, 11, 7, 28, '99.0', 'Bachelorette', 'Joe Bailey', 'Insurance Agent', 'Glasgow, Kentucky', 'JOE', 'B')\n",
            "(65, 'Bachelorette', '11', '11_CHRIS_S', None, None, None, 'R', None, None, 'ED', None, None, None, None, 'D7', 'D6', 'D5', 'D9', 'D5', 'D1', None, None, None, 'CHRIS', 'S', 603, 9, 99, 27, '99.0', 'Bachelorette', 'Chris Siegfried', 'Mortgage Broker', 'McMinnville, Oregon', 'CHRIS', 'S')\n",
            "(65, 'Bachelorette', '11', '11_CHRIS_S', None, None, None, 'R', None, None, 'ED', None, None, None, None, 'D7', 'D6', 'D5', 'D9', 'D5', 'D1', None, None, None, 'CHRIS', 'S', 630, 10, 9, 32, '99.0', 'Bachelorette', 'Chris Soules', 'Farmer', 'Lamont, Iowa', 'CHRIS', 'S')\n",
            "(65, 'Bachelorette', '11', '11_CHRIS_S', None, None, None, 'R', None, None, 'ED', None, None, None, None, 'D7', 'D6', 'D5', 'D9', 'D5', 'D1', None, None, None, 'CHRIS', 'S', 658, 11, 7, 28, '99.0', 'Bachelorette', 'Chris Strandburg', 'Dentist', 'Granite Bay, California', 'CHRIS', 'S')\n",
            "(66, 'Bachelorette', '11', '11_BEN_Z', None, 'R', 'R', None, None, 'E', None, None, None, None, None, 'D8', 'D1', 'D8', 'D9', 'D5', None, None, None, None, 'BEN', 'Z', 659, 11, 6, 26, '99.0', 'Bachelorette', 'Ben Zorn', 'Fitness Coach', 'Falls Church, Virginia', 'BEN', 'Z')\n",
            "(67, 'Bachelorette', '11', '11_TANNER_T', None, None, None, None, None, 'E', None, None, None, None, None, 'D8', 'D6', 'D8', 'D9', 'D5', None, None, None, None, 'TANNER', 'T', 660, 11, 6, 28, '99.0', 'Bachelorette', 'Tanner Tolbert', 'Auto Finance Manager', 'Stilwell, Kansas', 'TANNER', 'T')\n",
            "(68, 'Bachelorette', '11', '11_JJ_L', None, 'R', None, None, None, 'ED', None, None, None, None, None, 'D7', 'D6', 'D8', 'D9', 'D2', None, None, None, None, 'JJ', 'L', None, None, None, None, None, None, None, None, None, None, None)\n",
            "(69, 'Bachelorette', '11', '11_JOSHUA_A', None, None, None, None, 'E', None, None, None, None, None, None, 'D7', 'D6', 'D5', 'D9', None, None, None, None, None, 'JOSHUA', 'A', 662, 11, 5, 31, '99.0', 'Bachelorette', 'Joshua Albers', 'Industrial Welder', 'Kuna, Idaho', 'JOSHUA', 'A')\n",
            "(70, 'Bachelorette', '11', '11_JUSTIN_R', None, None, None, 'R', 'E', None, None, None, None, None, None, 'D8', None, 'D8', 'D9', None, None, None, None, None, 'JUSTIN', 'R', 534, 6, 6, 26, '99.0', 'Bachelorette', 'Justin Rego', 'Entertainment Wrestler', 'Toronto, Ontario', 'JUSTIN', 'R')\n",
            "(70, 'Bachelorette', '11', '11_JUSTIN_R', None, None, None, 'R', 'E', None, None, None, None, None, None, 'D8', None, 'D8', 'D9', None, None, None, None, None, 'JUSTIN', 'R', 663, 11, 5, 28, '99.0', 'Bachelorette', 'Justin Reich', 'Fitness Trainer', 'Elgin, Illinois', 'JUSTIN', 'R')\n",
            "(71, 'Bachelorette', '11', '11_IAN_T', None, None, None, None, 'EQ', None, None, None, None, None, None, 'D7', None, 'D5', 'D9', None, None, None, None, None, 'IAN', 'T', 664, 11, 5, 28, '99.0', 'Bachelorette', 'Ian Thomson', 'Executive Recruiter', 'Ramsey, New Jersey', 'IAN', 'T')\n",
            "(72, 'Bachelorette', '11', '11_COREY_S', None, None, None, 'E', None, None, None, None, None, None, None, 'D8', None, 'D8', None, None, None, None, None, None, 'COREY', 'S', 665, 11, 4, 30, '99.0', 'Bachelorette', 'Corey Stansell (NY)', 'Investment Banker', 'New York, New York', 'COREY', 'S')\n",
            "(73, 'Bachelorette', '11', '11_JONATHAN_H', None, None, None, 'E', None, None, None, None, None, None, None, 'D7', 'D6', 'D8', None, None, None, None, None, None, 'JONATHAN', 'H', 666, 11, 4, 33, '99.0', 'Bachelorette', 'Jonathan Holloway', 'Automotive Spokesman', 'Sylvan Lake, Michigan', 'JONATHAN', 'H')\n",
            "(73, 'Bachelorette', '11', '11_JONATHAN_H', None, None, None, 'E', None, None, None, None, None, None, None, 'D7', 'D6', 'D8', None, None, None, None, None, None, 'JONATHAN', 'H', 701, 12, 1, 29, '99.0', 'Bachelorette', 'Jonathan Hamilton', 'Technical Sales Rep', 'Vancouver, British Columbia', 'JONATHAN', 'H')\n",
            "(74, 'Bachelorette', '11', '11_RYAN_B', None, None, None, 'E', None, None, None, None, None, None, None, None, 'D6', 'D8', None, None, None, None, None, None, 'RYAN', 'B', 584, 8, 6, 31, '99.0', 'Bachelorette', 'Ryan Bowers', 'Pro Sports Trainer', 'Evans, Georgia', 'RYAN', 'B')\n",
            "(74, 'Bachelorette', '11', '11_RYAN_B', None, None, None, 'E', None, None, None, None, None, None, None, None, 'D6', 'D8', None, None, None, None, None, None, 'RYAN', 'B', 667, 11, 4, 32, '99.0', 'Bachelorette', 'Ryan Beckett', 'Realtor', 'Wellington, Florida', 'RYAN', 'B')\n",
            "(75, 'Bachelorette', '11', '11_CLINT_A', None, 'R', 'EU', None, None, None, None, None, None, None, None, 'D1', 'D6', None, None, None, None, None, None, None, 'CLINT', 'A', 668, 11, 3, 27, '99.0', 'Bachelorette', 'Clint Arlis', 'Architectural Engineer', 'Batavia, Illinois', 'CLINT', 'A')\n",
            "(76, 'Bachelorette', '11', '11_TONY_H', None, None, 'EQ', None, None, None, None, None, None, None, None, 'D7', 'D6', None, None, None, None, None, None, None, 'TONY', 'H', 669, 11, 3, 35, '99.0', 'Bachelorette', 'Tony Harris', 'Healer', 'St. Louis, Missouri', 'TONY', 'H')\n",
            "(77, 'Bachelorette', '11', '11_CORY_S', None, 'E', None, None, None, None, None, None, None, None, None, None, None, None, None, None, None, None, None, None, 'CORY', 'S', 670, 11, 2, 35, '99.0', 'Bachelorette', 'Cory Shivar (NC)', 'Residential Developer', 'Seven Springs, North Carolina', 'CORY', 'S')\n",
            "(78, 'Bachelorette', '11', '11_DANIEL_F', None, 'E', None, None, None, None, None, None, None, None, None, 'D8', None, None, None, None, None, None, None, None, 'DANIEL', 'F', 671, 11, 2, 28, '99.0', 'Bachelorette', 'Daniel Finney', 'Fashion Designer', 'Nashville, Tennessee', 'DANIEL', 'F')\n",
            "(79, 'Bachelorette', '11', '11_KUPAH_J', None, 'EU', None, None, None, None, None, None, None, None, None, 'D8', None, None, None, None, None, None, None, None, 'KUPAH', 'J', 672, 11, 2, 32, '99.0', 'Bachelorette', 'Kupah James', 'Entrepreneur', 'Boston, Massachusetts', 'KUPAH', 'J')\n",
            "(80, 'Bachelorette', '11', '11_BRADLEY_C', 'E', None, None, None, None, None, None, None, None, None, None, None, None, None, None, None, None, None, None, None, 'BRADLEY', 'C', 673, 11, 1, 25, '99.0', 'Bachelorette', 'Bradley Cox', 'International Auto Shipper', 'Duluth, Georgia', 'BRADLEY', 'C')\n",
            "(81, 'Bachelorette', '11', '11_DAVID_X', 'E', None, None, None, None, None, None, None, None, None, None, None, None, None, None, None, None, None, None, None, 'DAVID', 'X', None, None, None, None, None, None, None, None, None, None, None)\n",
            "(82, 'Bachelorette', '11', '11_JOSH_S', 'E', None, None, None, None, None, None, None, None, None, None, None, None, None, None, None, None, None, None, None, 'JOSH', 'S', 675, 11, 1, 27, '99.0', 'Bachelorette', 'Josh Seiter', 'Law Student/Exotic Dancer', 'Chicago, Illinois', 'JOSH', 'S')\n",
            "(83, 'Bachelorette', '11', '11_SHAWN_E', 'E', None, None, None, None, None, None, None, None, None, None, None, None, None, None, None, None, None, None, None, 'SHAWN', 'E', 676, 11, 1, 31, '99.0', 'Bachelorette', 'Shawn Evans', 'Amateur Sex Coach', 'London, Ontario', 'SHAWN', 'E')\n",
            "(84, 'Bachelorette', '11', '11_BRADY_T', 'EQ', None, None, None, None, None, None, None, None, None, None, None, None, None, None, None, None, None, None, None, 'BRADY', 'T', 677, 11, 1, 33, '99.0', 'Bachelorette', 'Brady Toops', 'Singer/Songwriter', 'Wauseon, Ohio', 'BRADY', 'T')\n",
            "(85, 'Bachelorette', '11', '11_RYAN_M', 'EF', None, None, None, None, None, None, None, None, None, None, None, None, None, None, None, None, None, None, None, 'RYAN', 'M', 453, 2, 4, 30, '99.0', 'Bachelorette', 'Ryan M.', 'Financial Advisor', 'Santa Barbara, California', 'RYAN', 'M')\n",
            "(85, 'Bachelorette', '11', '11_RYAN_M', 'EF', None, None, None, None, None, None, None, None, None, None, None, None, None, None, None, None, None, None, None, 'RYAN', 'M', 569, 7, 2, 27, '99.0', 'Bachelorette', 'Ryan Miller', 'Constructor Estimator', 'Novi, Michigan', 'RYAN', 'M')\n",
            "(85, 'Bachelorette', '11', '11_RYAN_M', 'EF', None, None, None, None, None, None, None, None, None, None, None, None, None, None, None, None, None, None, None, 'RYAN', 'M', 678, 11, 1, 28, '99.0', 'Bachelorette', 'Ryan McDill', 'Junkyard Specialist', 'Kansas City, Missouri', 'RYAN', 'M')\n",
            "(86, 'Bachelorette', 'SEASON', 'ID', '1', '2', '3', '4', '5', '6', '7', '8', '9', '10', '1', '2', '3', '4', '5', '6', '7', '8', '9', '10', '', 'I', None, None, None, None, None, None, None, None, None, None, None)\n",
            "(87, 'Bachelorette', '10', '10_JOSH_M', None, None, 'R', None, 'R', None, None, None, None, 'W', None, 'D14', 'D12', None, 'D1', 'D6', 'D1', 'D1', 'D1', 'D1', 'JOSH', 'M', 628, 10, 99, 29, '99.0', 'Bachelorette', 'Josh Murray', 'Former Professional Baseball Player', 'Athens, Georgia', 'JOSH', 'M')\n",
            "(88, 'Bachelorette', '10', '10_NICK_V', 'R1', None, 'R', None, None, 'R', 'R', None, None, 'EU', None, None, 'D1', 'D6', 'D9', 'D1', 'D4', 'D1', 'D1', 'D1', 'NICK', 'V', 629, 10, 10, 33, '99.0', 'Bachelorette', 'Nick Viall', 'Software Sales Executive', 'Waukesha, Wisconsin', 'NICK', 'V')\n",
            "(88, 'Bachelorette', '10', '10_NICK_V', 'R1', None, 'R', None, None, 'R', 'R', None, None, 'EU', None, None, 'D1', 'D6', 'D9', 'D1', 'D4', 'D1', 'D1', 'D1', 'NICK', 'V', 654, 11, 9, 34, '99.0', 'Bachelorette', 'Nick Viall', 'Software Sales Executive', 'Waukesha, Wisconsin', 'NICK', 'V')\n"
          ],
          "name": "stdout"
        }
      ]
    },
    {
      "cell_type": "markdown",
      "metadata": {
        "id": "VBRvaxQ8Xo67"
      },
      "source": [
        "THE END."
      ]
    }
  ]
}