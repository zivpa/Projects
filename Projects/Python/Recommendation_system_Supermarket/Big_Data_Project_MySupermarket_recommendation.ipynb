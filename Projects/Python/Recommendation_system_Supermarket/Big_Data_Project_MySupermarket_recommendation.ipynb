{
  "cells": [
    {
      "cell_type": "markdown",
      "source": [
        "#uploading and organizing the data - run"
      ],
      "metadata": {
        "id": "nOh6NZQAuWtY"
      }
    },
    {
      "cell_type": "code",
      "source": [
        "import numpy as np, pandas as pd, os, pickle\n"
      ],
      "metadata": {
        "id": "lSnwywWOKnaU"
      },
      "execution_count": 1,
      "outputs": []
    },
    {
      "cell_type": "code",
      "execution_count": 2,
      "metadata": {
        "colab": {
          "base_uri": "https://localhost:8080/"
        },
        "id": "Jizb9FMEBw8h",
        "outputId": "3aca370a-4842-4dca-edee-e4cc0d4f51d9"
      },
      "outputs": [
        {
          "output_type": "stream",
          "name": "stdout",
          "text": [
            "Drive already mounted at /content/drive; to attempt to forcibly remount, call drive.mount(\"/content/drive\", force_remount=True).\n"
          ]
        }
      ],
      "source": [
        "from google.colab import drive\n",
        "drive.mount('/content/drive')"
      ]
    },
    {
      "cell_type": "code",
      "execution_count": 3,
      "metadata": {
        "id": "zJRmn21Mox7A",
        "colab": {
          "base_uri": "https://localhost:8080/"
        },
        "outputId": "1a7128f1-55db-4b11-9b07-8818c0c103ba"
      },
      "outputs": [
        {
          "output_type": "execute_result",
          "data": {
            "text/plain": [
              "(1133522, 12)"
            ]
          },
          "metadata": {},
          "execution_count": 3
        }
      ],
      "source": [
        "import pandas as pd\n",
        "df = pd.read_csv('BoughtItems.csv')\n",
        "df.shape"
      ]
    },
    {
      "cell_type": "code",
      "source": [
        "df = df.head(500000)"
      ],
      "metadata": {
        "id": "L50MZAa8G-Wj"
      },
      "execution_count": 5,
      "outputs": []
    },
    {
      "cell_type": "markdown",
      "source": [
        "#pickle"
      ],
      "metadata": {
        "id": "fW1xrk3pPXIT"
      }
    },
    {
      "cell_type": "code",
      "source": [
        "dump_file_name = '/content/drive/MyDrive/dump_cart.pickle'"
      ],
      "metadata": {
        "id": "DqUt_yF7K_jL"
      },
      "execution_count": 5,
      "outputs": []
    },
    {
      "cell_type": "markdown",
      "source": [
        "Save"
      ],
      "metadata": {
        "id": "EKGHi2BmKykk"
      }
    },
    {
      "cell_type": "code",
      "source": [
        "with open(dump_file_name, 'w+b') as out_file: \n",
        "    pickle.dump(df, out_file, pickle.HIGHEST_PROTOCOL)"
      ],
      "metadata": {
        "id": "On9U4_WiKxCt"
      },
      "execution_count": 244,
      "outputs": []
    },
    {
      "cell_type": "markdown",
      "source": [
        "Load"
      ],
      "metadata": {
        "id": "BWTsNCSZK0Mq"
      }
    },
    {
      "cell_type": "code",
      "source": [
        "with open(dump_file_name,'rb') as in_file:\n",
        "    df = pickle.load(in_file)"
      ],
      "metadata": {
        "id": "Z4UgOfshK1LS"
      },
      "execution_count": 41,
      "outputs": []
    },
    {
      "cell_type": "markdown",
      "source": [
        "#building the training data - run"
      ],
      "metadata": {
        "id": "DfmdPVtuuVKV"
      }
    },
    {
      "cell_type": "code",
      "execution_count": 6,
      "metadata": {
        "id": "S9c9wZceIzuY"
      },
      "outputs": [],
      "source": [
        "cart_dict = df.groupby(['BoughtTrolleyID'])['ProductTemplateID'].apply(lambda grp: list(grp.value_counts().index)).to_dict()"
      ]
    },
    {
      "cell_type": "code",
      "source": [
        "number_of_products = [len(cart_dict[x]) for x in cart_dict]"
      ],
      "metadata": {
        "id": "wfjj24pMH0wI"
      },
      "execution_count": 7,
      "outputs": []
    },
    {
      "cell_type": "code",
      "source": [
        "import matplotlib.pyplot as plt\n",
        "\n",
        "plt.hist(number_of_products)\n",
        "plt.show() \n"
      ],
      "metadata": {
        "colab": {
          "base_uri": "https://localhost:8080/",
          "height": 0
        },
        "id": "A31gmRP9IcW8",
        "outputId": "ace09c5f-7b78-4d53-d247-5ca4a72010e1"
      },
      "execution_count": 8,
      "outputs": [
        {
          "output_type": "display_data",
          "data": {
            "text/plain": [
              "<Figure size 432x288 with 1 Axes>"
            ],
            "image/png": "[encoded data removed]"
          },
          "metadata": {
            "needs_background": "light"
          }
        }
      ]
    },
    {
      "cell_type": "code",
      "source": [
        "dict_cart = {}\n",
        "for x in cart_dict:\n",
        "  if len(cart_dict[x]) > 15:\n",
        "    dict_cart[x] = cart_dict[x]\n",
        "\n",
        "cart_keys = list(dict_cart.keys())"
      ],
      "metadata": {
        "id": "UHyWTFRZ8yRX"
      },
      "execution_count": 9,
      "outputs": []
    },
    {
      "cell_type": "code",
      "execution_count": 10,
      "metadata": {
        "id": "lhmRAXudHxtu",
        "colab": {
          "base_uri": "https://localhost:8080/"
        },
        "outputId": "2c7d9d49-034e-4d32-b0d7-0217638c45c1"
      },
      "outputs": [
        {
          "output_type": "stream",
          "name": "stdout",
          "text": [
            "No.of.unique shopping carts is 12887 carts\n"
          ]
        }
      ],
      "source": [
        "n=len(dict_cart)\n",
        "\n",
        "print(\"No.of.unique shopping carts is\", n,\"carts\")"
      ]
    },
    {
      "cell_type": "code",
      "execution_count": 11,
      "metadata": {
        "id": "3J3twpG6JzBm",
        "colab": {
          "base_uri": "https://localhost:8080/"
        },
        "outputId": "652e7ad4-af29-452c-d0a6-1030e7c89fe4"
      },
      "outputs": [
        {
          "output_type": "stream",
          "name": "stdout",
          "text": [
            "Number of unique products (vocab size): 17228\n"
          ]
        }
      ],
      "source": [
        "vocab = dict()\n",
        "for product in df['ProductTemplateID']:\n",
        "  if product not in vocab:\n",
        "    vocab[product] = len(vocab)\n",
        "\n",
        "inverse_vocab = dict([(value, key) for key, value in vocab.items()])\n",
        "print(f'Number of unique products (vocab size): {len(vocab)}')"
      ]
    },
    {
      "cell_type": "code",
      "source": [
        "import scipy.sparse\n",
        "corpus = scipy.sparse.lil_matrix((n, len(vocab)),dtype=int)\n",
        "\n",
        "for i,cart in enumerate(dict_cart.keys()):\n",
        "  for product in dict_cart[cart]:\n",
        "    corpus[i, vocab[product]] = 1"
      ],
      "metadata": {
        "id": "DByZhlkrew2F"
      },
      "execution_count": 12,
      "outputs": []
    },
    {
      "cell_type": "code",
      "source": [
        "print(f'Matrix Density: {(corpus>0).sum()/(corpus.shape[0]*corpus.shape[1]):03f}')"
      ],
      "metadata": {
        "colab": {
          "base_uri": "https://localhost:8080/"
        },
        "id": "rxawRkH1jvxB",
        "outputId": "119beddc-eea9-4a92-de2b-54853a2de976"
      },
      "execution_count": 13,
      "outputs": [
        {
          "output_type": "stream",
          "name": "stdout",
          "text": [
            "Matrix Density: 0.002213\n"
          ]
        }
      ]
    },
    {
      "cell_type": "code",
      "source": [
        "X = scipy.sparse.lil_matrix((n, len(vocab)),dtype=int)\n",
        "Y = scipy.sparse.lil_matrix((n, len(vocab)),dtype=int)"
      ],
      "metadata": {
        "id": "Q2P8b1pzmgY5"
      },
      "execution_count": 14,
      "outputs": []
    },
    {
      "cell_type": "code",
      "source": [
        "import random\n",
        "\n",
        "boolean_corpus = (corpus>0).toarray()\n",
        "\n",
        "products_for_x, products_for_y = [], []\n",
        "\n",
        "for i,cart in enumerate(boolean_corpus):\n",
        "  products_in_cart = []\n",
        "\n",
        "  for j in range(len(cart)):\n",
        "    if cart[j]:\n",
        "      products_in_cart.append(inverse_vocab[j])\n",
        "      \n",
        "  r = random.sample(products_in_cart, 5)\n",
        "  products_for_x.append(r)\n",
        "  products_for_y.append(list(set(products_in_cart) - set(r)))\n"
      ],
      "metadata": {
        "id": "8pPPLntkktvA"
      },
      "execution_count": 15,
      "outputs": []
    },
    {
      "cell_type": "code",
      "source": [
        "for i,products in enumerate(products_for_x):\n",
        "  for p in products:\n",
        "    X[i, vocab[p]] = 1"
      ],
      "metadata": {
        "id": "NzTQgAL0-ycC"
      },
      "execution_count": 16,
      "outputs": []
    },
    {
      "cell_type": "code",
      "source": [
        "for i,products in enumerate(products_for_y):\n",
        "  for p in products:\n",
        "    Y[i, vocab[p]] = 1"
      ],
      "metadata": {
        "id": "x9g10_zaGlL7"
      },
      "execution_count": 17,
      "outputs": []
    },
    {
      "cell_type": "code",
      "execution_count": 18,
      "metadata": {
        "id": "ef8atgx_NPxb"
      },
      "outputs": [],
      "source": [
        "x_df = pd.DataFrame.sparse.from_spmatrix(X)\n",
        "x_df.columns = vocab.keys()\n",
        "x_df.index = dict_cart.keys()\n",
        "\n",
        "y_df = pd.DataFrame.sparse.from_spmatrix(Y)\n",
        "y_df.columns = vocab.keys()\n",
        "y_df.index = dict_cart.keys()\n"
      ]
    },
    {
      "cell_type": "code",
      "source": [
        "#carts_products_df = pd.DataFrame(dict([(k,pd.Series(v)) for k,v in cart_dict.items()])).T"
      ],
      "metadata": {
        "id": "bxc4jK5t8DaT"
      },
      "execution_count": 19,
      "outputs": []
    },
    {
      "cell_type": "code",
      "source": [
        "prod_2_gen = []\n",
        "for x in cart_keys:\n",
        "  prod_2_gen.append(cart_dict[x])\n",
        "  \n",
        "prod_2_gen = [[str(x) for x in l] for l in prod_2_gen]"
      ],
      "metadata": {
        "id": "k4-pAXxjC4L_"
      },
      "execution_count": 20,
      "outputs": []
    },
    {
      "cell_type": "markdown",
      "source": [
        "#split - run"
      ],
      "metadata": {
        "id": "9dgMj0Z7ziJh"
      }
    },
    {
      "cell_type": "code",
      "source": [
        "from tensorflow.keras.models import Sequential \n",
        "from tensorflow.keras.layers import Dense, Flatten\n",
        "\n",
        "# Useful machine-learning commands\n",
        "from sklearn.feature_extraction.text import TfidfVectorizer\n",
        "from sklearn.model_selection import train_test_split\n",
        "from sklearn import preprocessing\n",
        "from sklearn.linear_model import LogisticRegression,SGDClassifier\n",
        "from sklearn import metrics\n",
        "from sklearn_pandas import DataFrameMapper\n"
      ],
      "metadata": {
        "id": "VxmZdjozzj9U"
      },
      "execution_count": 21,
      "outputs": []
    },
    {
      "cell_type": "code",
      "source": [
        "x_train, x_test, y_train, y_test = train_test_split(x_df, y_df, test_size=0.2, random_state=42)\n",
        "print('Training set size: {0:d}\\nTest set size: {1:d}'.format(len(x_train),len(x_test)))\n"
      ],
      "metadata": {
        "id": "tWg7WlDu0hd-",
        "colab": {
          "base_uri": "https://localhost:8080/"
        },
        "outputId": "29a21d32-fd6d-4ca8-9233-a96665abf98f"
      },
      "execution_count": 22,
      "outputs": [
        {
          "output_type": "stream",
          "name": "stdout",
          "text": [
            "Training set size: 10309\n",
            "Test set size: 2578\n"
          ]
        }
      ]
    },
    {
      "cell_type": "code",
      "source": [
        "# Bring the data into a proper format:\n",
        "x_train_onehot = pd.get_dummies(x_train).values\n",
        "x_test_onehot = pd.get_dummies(x_test).values"
      ],
      "metadata": {
        "id": "ES0rzzn42hPc"
      },
      "execution_count": 273,
      "outputs": []
    },
    {
      "cell_type": "code",
      "source": [
        "# Bring the data into a proper format:\n",
        "y_train_onehot = pd.get_dummies(y_train).values\n",
        "y_test_onehot = pd.get_dummies(y_test).values\n",
        "\n",
        "y_train_onehot.shape, y_test_onehot.shape "
      ],
      "metadata": {
        "colab": {
          "base_uri": "https://localhost:8080/"
        },
        "id": "re7VY9xD1Jz-",
        "outputId": "aac26fe3-bd4a-48f7-8ad1-4c75c2b00ea0"
      },
      "execution_count": 274,
      "outputs": [
        {
          "output_type": "execute_result",
          "data": {
            "text/plain": [
              "((9419, 16901), (2355, 16901))"
            ]
          },
          "metadata": {},
          "execution_count": 274
        }
      ]
    },
    {
      "cell_type": "markdown",
      "source": [
        "#TSNE"
      ],
      "metadata": {
        "id": "_Ex4-UIbyK6f"
      }
    },
    {
      "cell_type": "code",
      "source": [
        "%matplotlib inline\n",
        "import matplotlib.pyplot as plt\n",
        "from sklearn.decomposition import LatentDirichletAllocation\n",
        "from sklearn.metrics.pairwise import cosine_similarity\n",
        "from sklearn.manifold import TSNE\n"
      ],
      "metadata": {
        "id": "WbHnV2UG0Y3w"
      },
      "execution_count": 28,
      "outputs": []
    },
    {
      "cell_type": "code",
      "source": [
        "lda_model = model = LatentDirichletAllocation(n_components=10, n_jobs=-1, verbose=1, random_state=42, max_iter=70)\n",
        "lda_model.fit(corpus)\n",
        "representation = lda_model.transform(corpus)"
      ],
      "metadata": {
        "colab": {
          "base_uri": "https://localhost:8080/"
        },
        "id": "ybc6gOSr16S5",
        "outputId": "e9eb137e-c600-4ccd-8c14-57c0dead0889"
      },
      "execution_count": 29,
      "outputs": [
        {
          "output_type": "stream",
          "name": "stdout",
          "text": [
            "iteration: 1 of max_iter: 70\n",
            "iteration: 2 of max_iter: 70\n",
            "iteration: 3 of max_iter: 70\n",
            "iteration: 4 of max_iter: 70\n",
            "iteration: 5 of max_iter: 70\n",
            "iteration: 6 of max_iter: 70\n",
            "iteration: 7 of max_iter: 70\n",
            "iteration: 8 of max_iter: 70\n",
            "iteration: 9 of max_iter: 70\n",
            "iteration: 10 of max_iter: 70\n",
            "iteration: 11 of max_iter: 70\n",
            "iteration: 12 of max_iter: 70\n",
            "iteration: 13 of max_iter: 70\n",
            "iteration: 14 of max_iter: 70\n",
            "iteration: 15 of max_iter: 70\n",
            "iteration: 16 of max_iter: 70\n",
            "iteration: 17 of max_iter: 70\n",
            "iteration: 18 of max_iter: 70\n",
            "iteration: 19 of max_iter: 70\n",
            "iteration: 20 of max_iter: 70\n",
            "iteration: 21 of max_iter: 70\n",
            "iteration: 22 of max_iter: 70\n",
            "iteration: 23 of max_iter: 70\n",
            "iteration: 24 of max_iter: 70\n",
            "iteration: 25 of max_iter: 70\n",
            "iteration: 26 of max_iter: 70\n",
            "iteration: 27 of max_iter: 70\n",
            "iteration: 28 of max_iter: 70\n",
            "iteration: 29 of max_iter: 70\n",
            "iteration: 30 of max_iter: 70\n",
            "iteration: 31 of max_iter: 70\n",
            "iteration: 32 of max_iter: 70\n",
            "iteration: 33 of max_iter: 70\n",
            "iteration: 34 of max_iter: 70\n",
            "iteration: 35 of max_iter: 70\n",
            "iteration: 36 of max_iter: 70\n",
            "iteration: 37 of max_iter: 70\n",
            "iteration: 38 of max_iter: 70\n",
            "iteration: 39 of max_iter: 70\n",
            "iteration: 40 of max_iter: 70\n",
            "iteration: 41 of max_iter: 70\n",
            "iteration: 42 of max_iter: 70\n",
            "iteration: 43 of max_iter: 70\n",
            "iteration: 44 of max_iter: 70\n",
            "iteration: 45 of max_iter: 70\n",
            "iteration: 46 of max_iter: 70\n",
            "iteration: 47 of max_iter: 70\n",
            "iteration: 48 of max_iter: 70\n",
            "iteration: 49 of max_iter: 70\n",
            "iteration: 50 of max_iter: 70\n",
            "iteration: 51 of max_iter: 70\n",
            "iteration: 52 of max_iter: 70\n",
            "iteration: 53 of max_iter: 70\n",
            "iteration: 54 of max_iter: 70\n",
            "iteration: 55 of max_iter: 70\n",
            "iteration: 56 of max_iter: 70\n",
            "iteration: 57 of max_iter: 70\n",
            "iteration: 58 of max_iter: 70\n",
            "iteration: 59 of max_iter: 70\n",
            "iteration: 60 of max_iter: 70\n",
            "iteration: 61 of max_iter: 70\n",
            "iteration: 62 of max_iter: 70\n",
            "iteration: 63 of max_iter: 70\n",
            "iteration: 64 of max_iter: 70\n",
            "iteration: 65 of max_iter: 70\n",
            "iteration: 66 of max_iter: 70\n",
            "iteration: 67 of max_iter: 70\n",
            "iteration: 68 of max_iter: 70\n",
            "iteration: 69 of max_iter: 70\n",
            "iteration: 70 of max_iter: 70\n"
          ]
        }
      ]
    },
    {
      "cell_type": "code",
      "source": [
        "import sklearn\n",
        "tsne_model = TSNE(n_components=2,n_jobs=1, metric='cosine',random_state=42)\n",
        "if isinstance(tsne_model, sklearn.manifold.TSNE):\n",
        "    tsne_cooordinates = tsne_model.fit_transform(representation)\n",
        "else:\n",
        "    tsne_cooordinates = tsne_model.fit(representation)"
      ],
      "metadata": {
        "colab": {
          "base_uri": "https://localhost:8080/"
        },
        "id": "zCG2WnoX2Bn-",
        "outputId": "1ba4412d-2702-4987-bfd1-8bd0a395f471"
      },
      "execution_count": 30,
      "outputs": [
        {
          "output_type": "stream",
          "name": "stderr",
          "text": [
            "/usr/local/lib/python3.7/dist-packages/sklearn/manifold/_t_sne.py:783: FutureWarning: The default initialization in TSNE will change from 'random' to 'pca' in 1.2.\n",
            "  FutureWarning,\n",
            "/usr/local/lib/python3.7/dist-packages/sklearn/manifold/_t_sne.py:793: FutureWarning: The default learning rate in TSNE will change from 200.0 to 'auto' in 1.2.\n",
            "  FutureWarning,\n",
            "/usr/local/lib/python3.7/dist-packages/sklearn/manifold/_t_sne.py:827: FutureWarning: 'square_distances' has been introduced in 0.24 to help phase out legacy squaring behavior. The 'legacy' setting will be removed in 1.1 (renaming of 0.26), and the default setting will be changed to True. In 1.3, 'square_distances' will be removed altogether, and distances will be squared by default. Set 'square_distances'=True to silence this warning.\n",
            "  FutureWarning,\n"
          ]
        }
      ]
    },
    {
      "cell_type": "code",
      "source": [
        "plt.figure(figsize=(12,9))\n",
        "plt.scatter(tsne_cooordinates[:,0],tsne_cooordinates[:,1], s=1)\n",
        "plt.show()"
      ],
      "metadata": {
        "colab": {
          "base_uri": "https://localhost:8080/",
          "height": 0
        },
        "id": "5NgCZFyV2P8U",
        "outputId": "e6307cdc-6da0-4804-f4dc-759c3937e4f8"
      },
      "execution_count": 31,
      "outputs": [
        {
          "output_type": "display_data",
          "data": {
            "text/plain": [
              "<Figure size 864x648 with 1 Axes>"
            ],
            "image/png": "[encoded data removed]"
          },
          "metadata": {
            "needs_background": "light"
          }
        }
      ]
    },
    {
      "cell_type": "code",
      "source": [
        "from sklearn.cluster import KMeans\n",
        "import matplotlib.cm as cm\n",
        "\n",
        "kmeans = KMeans(n_clusters=15)\n",
        "tsne_clusters = kmeans.fit(tsne_cooordinates)\n",
        "np.unique(tsne_clusters.labels_)\n",
        "plt.figure(figsize=(9, 9))\n",
        "colormap = cm.get_cmap('tab20')\n",
        "\n",
        "for label in np.unique(tsne_clusters.labels_):\n",
        "    plt.scatter(tsne_cooordinates[tsne_clusters.labels_==label,0],  tsne_cooordinates[tsne_clusters.labels_==label,1], \n",
        "                s=3,  color=colormap( label % 15), \n",
        "                label=label);\n",
        "plt.legend()"
      ],
      "metadata": {
        "colab": {
          "base_uri": "https://localhost:8080/",
          "height": 0
        },
        "id": "xTkVTB982qer",
        "outputId": "7137444b-4622-49a0-ae10-1ba6ef876bd5"
      },
      "execution_count": 32,
      "outputs": [
        {
          "output_type": "execute_result",
          "data": {
            "text/plain": [
              "<matplotlib.legend.Legend at 0x7f8bae35afd0>"
            ]
          },
          "metadata": {},
          "execution_count": 32
        },
        {
          "output_type": "display_data",
          "data": {
            "text/plain": [
              "<Figure size 648x648 with 1 Axes>"
            ],
            "image/png": "[encoded data removed]"
          },
          "metadata": {
            "needs_background": "light"
          }
        }
      ]
    },
    {
      "cell_type": "markdown",
      "source": [
        "#W2V"
      ],
      "metadata": {
        "id": "MD86cr0X2yA0"
      }
    },
    {
      "cell_type": "code",
      "source": [
        "import gensim\n",
        "import gensim.corpora as corpora\n",
        "from gensim.utils import simple_preprocess\n",
        "from gensim.models import CoherenceModel, Word2Vec, KeyedVectors\n",
        "from gensim.test.utils import common_texts"
      ],
      "metadata": {
        "id": "ga6IWSPHTwWj"
      },
      "execution_count": 34,
      "outputs": []
    },
    {
      "cell_type": "code",
      "source": [
        "model_0 = gensim.models.Word2Vec(prod_2_gen ,window=7, min_count=2, sg=0, workers = 12) \n",
        "model_0.train(prod_2_gen, total_examples=len(prod_2_gen), epochs=5)"
      ],
      "metadata": {
        "colab": {
          "base_uri": "https://localhost:8080/"
        },
        "id": "sM7JcZht4L3S",
        "outputId": "5ae49ce9-db0d-48fd-ac77-d36a151eb2e1"
      },
      "execution_count": 35,
      "outputs": [
        {
          "output_type": "execute_result",
          "data": {
            "text/plain": [
              "(949466, 982150)"
            ]
          },
          "metadata": {},
          "execution_count": 35
        }
      ]
    },
    {
      "cell_type": "code",
      "source": [
        "sims = model_0.wv.most_similar(('4973','4653', '6526'), topn=5) \n",
        "sims"
      ],
      "metadata": {
        "colab": {
          "base_uri": "https://localhost:8080/"
        },
        "id": "jf7MbWCFE8Qm",
        "outputId": "59c67c69-f951-488d-bde9-570c72fa7e68"
      },
      "execution_count": 169,
      "outputs": [
        {
          "output_type": "execute_result",
          "data": {
            "text/plain": [
              "[('4910', 0.9952058792114258),\n",
              " ('5199', 0.9949454069137573),\n",
              " ('4644', 0.9948856234550476),\n",
              " ('4899', 0.9936501979827881),\n",
              " ('5364', 0.9935096502304077)]"
            ]
          },
          "metadata": {},
          "execution_count": 169
        }
      ]
    },
    {
      "cell_type": "code",
      "source": [
        "sims = model_0.wv.most_similar('19984', topn=5) \n",
        "sims"
      ],
      "metadata": {
        "colab": {
          "base_uri": "https://localhost:8080/"
        },
        "id": "uc_QC2zE5PRB",
        "outputId": "0960534d-b067-47d7-e7a8-b5ab771c2926"
      },
      "execution_count": 38,
      "outputs": [
        {
          "output_type": "execute_result",
          "data": {
            "text/plain": [
              "[('16898', 0.9937911033630371),\n",
              " ('33712', 0.991845965385437),\n",
              " ('16922', 0.9898489117622375),\n",
              " ('22925', 0.9886221289634705),\n",
              " ('32152', 0.9853836297988892)]"
            ]
          },
          "metadata": {},
          "execution_count": 38
        }
      ]
    },
    {
      "cell_type": "code",
      "source": [
        "sims = model_0.wv.most_similar('16162', topn=5) \n",
        "sims"
      ],
      "metadata": {
        "colab": {
          "base_uri": "https://localhost:8080/"
        },
        "id": "UsiWoy0RFGzy",
        "outputId": "c2fd8231-269e-4fb5-c5f5-2a7d80477409"
      },
      "execution_count": 39,
      "outputs": [
        {
          "output_type": "execute_result",
          "data": {
            "text/plain": [
              "[('24251', 0.9934321641921997),\n",
              " ('24247', 0.9928063154220581),\n",
              " ('22403', 0.9925510287284851),\n",
              " ('24766', 0.9918047189712524),\n",
              " ('23531', 0.9904707074165344)]"
            ]
          },
          "metadata": {},
          "execution_count": 39
        }
      ]
    },
    {
      "cell_type": "code",
      "source": [
        "# #from sklearn.decomposition import TruncatedSVD\n",
        "# from sklearn.decomposition import PCA\n",
        "\n",
        "# pca = PCA(n_components=10)\n",
        "# x_train_pca = pca.fit_transform(x_train_onehot)\n",
        "# y_train_pca = pca.fit_transform(y_train_onehot)\n",
        "\n",
        "# x_test_pca = pca.fit_transform(x_test_onehot)\n",
        "# y_test_pca = pca.fit_transform(y_test_onehot)\n",
        "\n",
        "# print(f\"PCA: reduced dimentions from {x_train.shape} to {y_train_pca.shape}\")"
      ],
      "metadata": {
        "colab": {
          "base_uri": "https://localhost:8080/"
        },
        "id": "UMyirApNG4WK",
        "outputId": "46850159-2941-489d-c716-7fff0973f03f"
      },
      "execution_count": 95,
      "outputs": [
        {
          "output_type": "stream",
          "name": "stdout",
          "text": [
            "PCA: reduced dimentions from (2119, 11210) to (2119, 10)\n"
          ]
        }
      ]
    },
    {
      "cell_type": "markdown",
      "source": [
        "#ANN - run - here it might crash"
      ],
      "metadata": {
        "id": "dxQKoY5WxtYr"
      }
    },
    {
      "cell_type": "code",
      "source": [
        "from tensorflow.keras.preprocessing.text import Tokenizer\n",
        "from tensorflow.keras.preprocessing.sequence import pad_sequences\n",
        "from tensorflow.keras.models import Sequential\n",
        "from tensorflow.keras.layers import Embedding, LSTM, Dense, Dropout, SpatialDropout1D\n",
        "from keras.layers import Dense, Input\n",
        "from keras.models import Model\n"
      ],
      "metadata": {
        "id": "Wyyq1jD3tAR8"
      },
      "execution_count": 23,
      "outputs": []
    },
    {
      "cell_type": "code",
      "source": [
        "# Define the model layout:\n",
        "inputs = Input(shape=(x_train.shape[1],), sparse=True)\n",
        "\n",
        "model = Sequential()\n",
        "model.add(inputs)\n",
        "model.add(Dense(x_train.shape[1], activation='softmax'))\n",
        "\n",
        "\n",
        "model.compile(loss='categorical_crossentropy', optimizer='adam', metrics=['accuracy'])\n",
        "\n",
        "\n",
        "# embedding_layer = Embedding(input_dim=1000,output_dim=64)\n",
        "# model.add(embedding_layer)\n",
        "# model.add(LSTM(50))\n",
        "# model.add(Dense(100, input_dim=len(vocab), activation='relu'))\n",
        "# model.add(Dense(500, activation='relu'))\n",
        "# model.add(Dense(5000, activation='relu'))\n",
        "# model.add(Dense(11210, activation='softmax'))\n",
        "# outputs = Dense(y_train.shape[1], activation='softmax')(inputs)\n",
        "# model.add(Dropout(0.3))\n",
        "\n",
        "\n",
        "# Train the model:\n",
        "fit = model.fit(x_train, y_train, epochs=10, verbose=2, batch_size = 32, validation_data=None)\n"
      ],
      "metadata": {
        "id": "zeNi340d1Jw7",
        "colab": {
          "base_uri": "https://localhost:8080/"
        },
        "outputId": "ebf434ac-ef41-44bf-8b9a-9b7abe4ba1e9"
      },
      "execution_count": null,
      "outputs": [
        {
          "output_type": "stream",
          "name": "stdout",
          "text": [
            "Epoch 1/10\n"
          ]
        }
      ]
    },
    {
      "cell_type": "code",
      "source": [
        "_, accuracy = model.evaluate(x_train, y_train)\n",
        "_, accuracy = model.evaluate(x_test, y_test)"
      ],
      "metadata": {
        "id": "TUClHlVo1Ju9",
        "colab": {
          "base_uri": "https://localhost:8080/"
        },
        "outputId": "4ddba957-fbd4-4957-ccf6-5933c1f8f1a7"
      },
      "execution_count": 70,
      "outputs": [
        {
          "output_type": "stream",
          "name": "stdout",
          "text": [
            "132/132 [==============================] - 46s 345ms/step - loss: 280.2790 - accuracy: 0.1439\n",
            "33/33 [==============================] - 12s 373ms/step - loss: 302.4908 - accuracy: 0.0438\n"
          ]
        }
      ]
    },
    {
      "cell_type": "code",
      "source": [
        "model.summary() "
      ],
      "metadata": {
        "colab": {
          "base_uri": "https://localhost:8080/"
        },
        "id": "6KvnVUST1fmb",
        "outputId": "99b14bb1-9165-43b9-a400-3760e148a09d"
      },
      "execution_count": 71,
      "outputs": [
        {
          "output_type": "stream",
          "name": "stdout",
          "text": [
            "Model: \"sequential_1\"\n",
            "_________________________________________________________________\n",
            " Layer (type)                Output Shape              Param #   \n",
            "=================================================================\n",
            " dense_1 (Dense)             (None, 13809)             190702290 \n",
            "                                                                 \n",
            "=================================================================\n",
            "Total params: 190,702,290\n",
            "Trainable params: 190,702,290\n",
            "Non-trainable params: 0\n",
            "_________________________________________________________________\n"
          ]
        }
      ]
    },
    {
      "cell_type": "code",
      "execution_count": 108,
      "metadata": {
        "id": "vbLjRUV9TAFt",
        "colab": {
          "base_uri": "https://localhost:8080/"
        },
        "outputId": "8afe07bc-2bc2-41e6-e882-4884a7f832b5"
      },
      "outputs": [
        {
          "output_type": "execute_result",
          "data": {
            "text/plain": [
              "(1050, 13809)"
            ]
          },
          "metadata": {},
          "execution_count": 108
        }
      ],
      "source": [
        "y_pred = model.predict(x_test)\n",
        "y_pred.shape"
      ]
    },
    {
      "cell_type": "code",
      "source": [
        "y_pred_df = pd.DataFrame(y_pred)\n",
        "y_pred_df.columns = x_test.columns\n",
        "y_pred_df.index = x_test.index"
      ],
      "metadata": {
        "id": "GBFyIjMxYQFi"
      },
      "execution_count": 114,
      "outputs": []
    },
    {
      "cell_type": "code",
      "source": [
        "num_of_correct_products = 0\n",
        "for i in range(len(y_test)):\n",
        "  s = y_test.iloc[i]\n",
        "  t = y_pred_df.iloc[i]\n",
        "  num_of_correct_products += len(set(s.nlargest(sum(s)).index)) - len(set(s.nlargest(sum(s)).index) - set(t.nlargest(1).index))\n"
      ],
      "metadata": {
        "id": "eE01iOLVYcxZ"
      },
      "execution_count": 162,
      "outputs": []
    },
    {
      "cell_type": "code",
      "source": [
        "round(num_of_correct_products/(len(y_test)),4)"
      ],
      "metadata": {
        "id": "RWfRNtL2-0qy",
        "outputId": "86adc666-51f4-4c49-b3e5-c8716aad11e8",
        "colab": {
          "base_uri": "https://localhost:8080/"
        }
      },
      "execution_count": 163,
      "outputs": [
        {
          "output_type": "execute_result",
          "data": {
            "text/plain": [
              "0.4552"
            ]
          },
          "metadata": {},
          "execution_count": 163
        }
      ]
    },
    {
      "cell_type": "markdown",
      "source": [
        "#gensim accuracy"
      ],
      "metadata": {
        "id": "vVBzoSi_GWwt"
      }
    },
    {
      "cell_type": "code",
      "source": [
        "sims = model_0.wv.most_similar(['4973','4653', '6526'], topn=5) \n",
        "sims"
      ],
      "metadata": {
        "id": "APmsJwe_GTQ3",
        "outputId": "4ab92b1f-5119-4756-a1d9-79e7fc0f0ecc",
        "colab": {
          "base_uri": "https://localhost:8080/"
        }
      },
      "execution_count": 182,
      "outputs": [
        {
          "output_type": "execute_result",
          "data": {
            "text/plain": [
              "[('4910', 0.9952058792114258),\n",
              " ('5199', 0.9949454069137573),\n",
              " ('4644', 0.9948856234550476),\n",
              " ('4899', 0.9936501979827881),\n",
              " ('5364', 0.9935096502304077)]"
            ]
          },
          "metadata": {},
          "execution_count": 182
        }
      ]
    },
    {
      "cell_type": "code",
      "source": [
        "from operator import itemgetter\n",
        "def Extract(lst):\n",
        "    return list(map(itemgetter(0), lst))"
      ],
      "metadata": {
        "id": "aRm3hk9tHWcB"
      },
      "execution_count": 178,
      "outputs": []
    },
    {
      "cell_type": "code",
      "source": [
        "def acc_calculator(x_test, y_test):\n",
        "  num_of_correct_products = 0\n",
        "  for i in range(len(y_test)):  \n",
        "    t = \n",
        "    g = [str(x) for x in x_test.iloc[i].nlargest(5).index]\n",
        "    gen = model_0.wv.most_similar(g, topn=5)\n",
        "    e = Extract(gen)\n"
      ],
      "metadata": {
        "id": "troWQO2BJFtd"
      },
      "execution_count": null,
      "outputs": []
    },
    {
      "cell_type": "code",
      "source": [
        "n = 0\n",
        "for i in range(100):\n",
        "  g = [str(x) for x in x_test.iloc[i].nlargest(1).index]\n",
        "  gen = model_0.wv.most_similar(g, topn=5)\n",
        "  e = [int(x) for x in Extract(gen)]\n",
        "\n",
        "  s = y_test.iloc[i]\n",
        "  n += len(set(s.nlargest(sum(s)).index)) - len(set(s.nlargest(sum(s)).index) - set(e))"
      ],
      "metadata": {
        "id": "5u-RBEV6KKSz"
      },
      "execution_count": 219,
      "outputs": []
    },
    {
      "cell_type": "markdown",
      "metadata": {
        "id": "1HEh1oqN3bpK"
      },
      "source": [
        "#Ariel and Ido"
      ]
    },
    {
      "cell_type": "code",
      "execution_count": null,
      "metadata": {
        "id": "niaf1YXqqC6x"
      },
      "outputs": [],
      "source": [
        "df_description=df\n",
        "del df_description['Unnamed: 0']\n",
        "del df_description['Method Type']\n",
        "del df_description['quantity of product']\n",
        "df_description.describe()"
      ]
    },
    {
      "cell_type": "markdown",
      "metadata": {
        "id": "CtAVvm_49DM2"
      },
      "source": [
        "5% click on swap and save for this product(?)\n",
        "\n",
        "3% of the products were swapped in to (?)"
      ]
    },
    {
      "cell_type": "code",
      "execution_count": null,
      "metadata": {
        "id": "n6GY-diy3eIx"
      },
      "outputs": [],
      "source": [
        "df_description[['ProductTemplateID']].nunique()"
      ]
    },
    {
      "cell_type": "code",
      "execution_count": null,
      "metadata": {
        "id": "ihzl46op5qgO"
      },
      "outputs": [],
      "source": [
        "d1 = df_description.drop_duplicates('ProductTemplateID')\n",
        "d1.describe()"
      ]
    },
    {
      "cell_type": "markdown",
      "metadata": {
        "id": "LsukEfUeyPku"
      },
      "source": [
        "The average price per product, *without* discount, is 14.9 NIS ; similarly, the average price per product, *with* discount, is 14.5 NIS.\n",
        "However, the cost of the most expensive product, without discount is 675 NIS; while after discount, the maximum price for a product is 340 NIS.\n",
        "Over 75% of the product's packages contains one unit of the product."
      ]
    },
    {
      "cell_type": "code",
      "execution_count": null,
      "metadata": {
        "id": "24GYHZhn8lQ5"
      },
      "outputs": [],
      "source": [
        "import numpy as np\n",
        "d1['price_diff'] = d1['Unit price without offer'] - d1['Unit price after offer']\n",
        "d1['discount'] = np.where(d1['price_diff']>0, 1, 0)"
      ]
    },
    {
      "cell_type": "code",
      "execution_count": null,
      "metadata": {
        "id": "wBJlAnEnF6Xu"
      },
      "outputs": [],
      "source": [
        "print(\"Number of productd with discount:\")\n",
        "d1['discount'].sum()"
      ]
    },
    {
      "cell_type": "code",
      "execution_count": null,
      "metadata": {
        "id": "6hD5jizTGfVp"
      },
      "outputs": [],
      "source": [
        "print(\"percentage of productd with discount:\")\n",
        "print((d1['discount'].sum())/26622)"
      ]
    },
    {
      "cell_type": "markdown",
      "metadata": {
        "id": "ZnsZdrjcG9cR"
      },
      "source": [
        "8% of the products are sold in discount"
      ]
    },
    {
      "cell_type": "code",
      "execution_count": null,
      "metadata": {
        "id": "EcjXRj7xNqgJ"
      },
      "outputs": [],
      "source": [
        "import pandas as pd\n",
        "products_data= pd.read_csv('templates_with_tabs_translate.csv')\n",
        "products_data.head(3)"
      ]
    },
    {
      "cell_type": "code",
      "execution_count": null,
      "metadata": {
        "id": "Q3PETsWLcmkj"
      },
      "outputs": [],
      "source": [
        "products_data.info()"
      ]
    },
    {
      "cell_type": "code",
      "execution_count": null,
      "metadata": {
        "id": "lRKiVS_Oa25a"
      },
      "outputs": [],
      "source": [
        "products_data['Retailer Name'].value_counts(sort=True).plot.bar(rot=0)"
      ]
    },
    {
      "cell_type": "code",
      "execution_count": null,
      "metadata": {
        "id": "0Sr7033zdnCf"
      },
      "outputs": [],
      "source": [
        "products_data['Department'].unique()"
      ]
    },
    {
      "cell_type": "code",
      "execution_count": null,
      "metadata": {
        "id": "DY2xvQVTd00O"
      },
      "outputs": [],
      "source": [
        "import seaborn as sns\n",
        "import matplotlib.pyplot as plt\n",
        "f, ax = plt.subplots(figsize=(7, 3))\n",
        "sns.countplot(y=\"Department\", data=products_data, color=\"c\")"
      ]
    },
    {
      "cell_type": "code",
      "execution_count": null,
      "metadata": {
        "id": "ZWMb87HGevIH"
      },
      "outputs": [],
      "source": [
        "products_data['Shelf'].unique()"
      ]
    },
    {
      "cell_type": "code",
      "execution_count": null,
      "metadata": {
        "id": "_0dEnoAYf34o"
      },
      "outputs": [],
      "source": [
        "products_data['Diet'].value_counts().plot(kind='pie',autopct='%1.1f%%')"
      ]
    },
    {
      "cell_type": "code",
      "execution_count": null,
      "metadata": {
        "id": "nvv7x_319qb2"
      },
      "outputs": [],
      "source": [
        "products_data['Diet'].value_counts()"
      ]
    },
    {
      "cell_type": "code",
      "execution_count": null,
      "metadata": {
        "id": "t4zzGYDngcd2"
      },
      "outputs": [],
      "source": [
        "products_data['Gluten_free'].value_counts().plot(kind='pie',autopct='%1.1f%%')"
      ]
    },
    {
      "cell_type": "code",
      "execution_count": null,
      "metadata": {
        "id": "FHmNM6yX9usL"
      },
      "outputs": [],
      "source": [
        "products_data['Gluten_free'].value_counts()"
      ]
    },
    {
      "cell_type": "code",
      "execution_count": null,
      "metadata": {
        "id": "7xazgNEWtGAE"
      },
      "outputs": [],
      "source": [
        "products_data['No_added_sugar'].value_counts().plot(kind='pie',autopct='%1.1f%%')"
      ]
    },
    {
      "cell_type": "code",
      "execution_count": null,
      "metadata": {
        "id": "V4Ja9HvS9ztG"
      },
      "outputs": [],
      "source": [
        "products_data['No_added_sugar'].value_counts()"
      ]
    },
    {
      "cell_type": "code",
      "execution_count": null,
      "metadata": {
        "id": "gKxluTr0yx7v"
      },
      "outputs": [],
      "source": [
        "products_data['whole_wheat'].value_counts().plot(kind='pie',autopct='%1.1f%%')"
      ]
    },
    {
      "cell_type": "code",
      "execution_count": null,
      "metadata": {
        "id": "6RRq4yZp93B7"
      },
      "outputs": [],
      "source": [
        "products_data['whole_wheat'].value_counts()"
      ]
    },
    {
      "cell_type": "code",
      "execution_count": null,
      "metadata": {
        "id": "y12SEFaey6ZV"
      },
      "outputs": [],
      "source": [
        "products_data['Suitable_for_diabetics'].value_counts().plot(kind='pie',autopct='%1.1f%%')"
      ]
    },
    {
      "cell_type": "code",
      "execution_count": null,
      "metadata": {
        "id": "JsTk0l5c4YZK"
      },
      "outputs": [],
      "source": [
        "products_data['Suitable_for_diabetics'].value_counts()"
      ]
    },
    {
      "cell_type": "code",
      "execution_count": null,
      "metadata": {
        "id": "xPZzKK19usOR"
      },
      "outputs": [],
      "source": [
        "products_data[['Suitable_for_diabetics', 'whole_wheat']].value_counts().plot(kind='pie', subplots=True, figsize=(4,4), autopct='%1.1f%%')"
      ]
    },
    {
      "cell_type": "code",
      "execution_count": null,
      "metadata": {
        "id": "tB_LPSRJBiHr"
      },
      "outputs": [],
      "source": [
        "#יצירת דאטה פריים חדש למיזוג עם הקובץ הראשון\n",
        "pdata=products_data\n",
        "del pdata['Retailer Name']\n",
        "del pdata['Product Family']\n",
        "del pdata['Quantity']\n",
        "del pdata['PPUBase']\n",
        "del pdata['PPUUnitType']\n",
        "del pdata['ConvertToPPUFactor']\n",
        "pdata.head()"
      ]
    },
    {
      "cell_type": "code",
      "execution_count": null,
      "metadata": {
        "id": "LBg03ewNE0Ed"
      },
      "outputs": [],
      "source": [
        "pdata.shape"
      ]
    },
    {
      "cell_type": "code",
      "execution_count": null,
      "metadata": {
        "id": "l363Arh0E3nx"
      },
      "outputs": [],
      "source": [
        "#pdata.drop_duplicates(subset=['ProductTemplateID'])"
      ]
    },
    {
      "cell_type": "code",
      "execution_count": null,
      "metadata": {
        "id": "M1KKJWxdHuJ5"
      },
      "outputs": [],
      "source": [
        "Merged_Data=df.merge(pdata, on='ProductTemplateID', how='outer')\n",
        "Merged_Data.head(10)"
      ]
    }
  ],
  "metadata": {
    "colab": {
      "collapsed_sections": [
        "1HEh1oqN3bpK"
      ],
      "name": "Big Data Project - MySupermarket recommendation",
      "provenance": []
    },
    "kernelspec": {
      "display_name": "Python 3",
      "name": "python3"
    },
    "language_info": {
      "name": "python"
    }
  },
  "nbformat": 4,
  "nbformat_minor": 0
}